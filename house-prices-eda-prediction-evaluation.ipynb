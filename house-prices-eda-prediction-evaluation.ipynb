{
 "cells": [
  {
   "cell_type": "markdown",
   "id": "39e8e3f8",
   "metadata": {
    "_cell_guid": "b1076dfc-b9ad-4769-8c92-a6c4dae69d19",
    "_uuid": "8f2839f25d086af736a60e9eeb907d3b93b6e0e5",
    "papermill": {
     "duration": 0.020068,
     "end_time": "2023-08-23T13:07:13.528355",
     "exception": false,
     "start_time": "2023-08-23T13:07:13.508287",
     "status": "completed"
    },
    "tags": []
   },
   "source": [
    "# House-Prices\n"
   ]
  },
  {
   "cell_type": "markdown",
   "id": "0401328f",
   "metadata": {
    "papermill": {
     "duration": 0.017984,
     "end_time": "2023-08-23T13:07:13.565139",
     "exception": false,
     "start_time": "2023-08-23T13:07:13.547155",
     "status": "completed"
    },
    "tags": []
   },
   "source": [
    "#### Importing Labrary"
   ]
  },
  {
   "cell_type": "code",
   "execution_count": 1,
   "id": "a9db3fd6",
   "metadata": {
    "execution": {
     "iopub.execute_input": "2023-08-23T13:07:13.604849Z",
     "iopub.status.busy": "2023-08-23T13:07:13.604417Z",
     "iopub.status.idle": "2023-08-23T13:07:15.270600Z",
     "shell.execute_reply": "2023-08-23T13:07:15.269446Z"
    },
    "papermill": {
     "duration": 1.68996,
     "end_time": "2023-08-23T13:07:15.273447",
     "exception": false,
     "start_time": "2023-08-23T13:07:13.583487",
     "status": "completed"
    },
    "tags": []
   },
   "outputs": [],
   "source": [
    "import pandas as pd\n",
    "import matplotlib.pyplot as plt\n",
    "import seaborn as sns\n",
    "import numpy as np\n",
    "import warnings\n",
    "warnings.filterwarnings('ignore')"
   ]
  },
  {
   "cell_type": "markdown",
   "id": "3b83ec34",
   "metadata": {
    "papermill": {
     "duration": 0.01822,
     "end_time": "2023-08-23T13:07:15.311397",
     "exception": false,
     "start_time": "2023-08-23T13:07:15.293177",
     "status": "completed"
    },
    "tags": []
   },
   "source": [
    "#### Read train file"
   ]
  },
  {
   "cell_type": "code",
   "execution_count": 2,
   "id": "9b222932",
   "metadata": {
    "execution": {
     "iopub.execute_input": "2023-08-23T13:07:15.351248Z",
     "iopub.status.busy": "2023-08-23T13:07:15.350825Z",
     "iopub.status.idle": "2023-08-23T13:07:15.451687Z",
     "shell.execute_reply": "2023-08-23T13:07:15.450540Z"
    },
    "papermill": {
     "duration": 0.124249,
     "end_time": "2023-08-23T13:07:15.454564",
     "exception": false,
     "start_time": "2023-08-23T13:07:15.330315",
     "status": "completed"
    },
    "tags": []
   },
   "outputs": [
    {
     "data": {
      "text/html": [
       "<div>\n",
       "<style scoped>\n",
       "    .dataframe tbody tr th:only-of-type {\n",
       "        vertical-align: middle;\n",
       "    }\n",
       "\n",
       "    .dataframe tbody tr th {\n",
       "        vertical-align: top;\n",
       "    }\n",
       "\n",
       "    .dataframe thead th {\n",
       "        text-align: right;\n",
       "    }\n",
       "</style>\n",
       "<table border=\"1\" class=\"dataframe\">\n",
       "  <thead>\n",
       "    <tr style=\"text-align: right;\">\n",
       "      <th></th>\n",
       "      <th>Id</th>\n",
       "      <th>MSSubClass</th>\n",
       "      <th>MSZoning</th>\n",
       "      <th>LotFrontage</th>\n",
       "      <th>LotArea</th>\n",
       "      <th>Street</th>\n",
       "      <th>Alley</th>\n",
       "      <th>LotShape</th>\n",
       "      <th>LandContour</th>\n",
       "      <th>Utilities</th>\n",
       "      <th>...</th>\n",
       "      <th>PoolArea</th>\n",
       "      <th>PoolQC</th>\n",
       "      <th>Fence</th>\n",
       "      <th>MiscFeature</th>\n",
       "      <th>MiscVal</th>\n",
       "      <th>MoSold</th>\n",
       "      <th>YrSold</th>\n",
       "      <th>SaleType</th>\n",
       "      <th>SaleCondition</th>\n",
       "      <th>SalePrice</th>\n",
       "    </tr>\n",
       "  </thead>\n",
       "  <tbody>\n",
       "    <tr>\n",
       "      <th>0</th>\n",
       "      <td>1</td>\n",
       "      <td>60</td>\n",
       "      <td>RL</td>\n",
       "      <td>65.0</td>\n",
       "      <td>8450</td>\n",
       "      <td>Pave</td>\n",
       "      <td>NaN</td>\n",
       "      <td>Reg</td>\n",
       "      <td>Lvl</td>\n",
       "      <td>AllPub</td>\n",
       "      <td>...</td>\n",
       "      <td>0</td>\n",
       "      <td>NaN</td>\n",
       "      <td>NaN</td>\n",
       "      <td>NaN</td>\n",
       "      <td>0</td>\n",
       "      <td>2</td>\n",
       "      <td>2008</td>\n",
       "      <td>WD</td>\n",
       "      <td>Normal</td>\n",
       "      <td>208500</td>\n",
       "    </tr>\n",
       "    <tr>\n",
       "      <th>1</th>\n",
       "      <td>2</td>\n",
       "      <td>20</td>\n",
       "      <td>RL</td>\n",
       "      <td>80.0</td>\n",
       "      <td>9600</td>\n",
       "      <td>Pave</td>\n",
       "      <td>NaN</td>\n",
       "      <td>Reg</td>\n",
       "      <td>Lvl</td>\n",
       "      <td>AllPub</td>\n",
       "      <td>...</td>\n",
       "      <td>0</td>\n",
       "      <td>NaN</td>\n",
       "      <td>NaN</td>\n",
       "      <td>NaN</td>\n",
       "      <td>0</td>\n",
       "      <td>5</td>\n",
       "      <td>2007</td>\n",
       "      <td>WD</td>\n",
       "      <td>Normal</td>\n",
       "      <td>181500</td>\n",
       "    </tr>\n",
       "    <tr>\n",
       "      <th>2</th>\n",
       "      <td>3</td>\n",
       "      <td>60</td>\n",
       "      <td>RL</td>\n",
       "      <td>68.0</td>\n",
       "      <td>11250</td>\n",
       "      <td>Pave</td>\n",
       "      <td>NaN</td>\n",
       "      <td>IR1</td>\n",
       "      <td>Lvl</td>\n",
       "      <td>AllPub</td>\n",
       "      <td>...</td>\n",
       "      <td>0</td>\n",
       "      <td>NaN</td>\n",
       "      <td>NaN</td>\n",
       "      <td>NaN</td>\n",
       "      <td>0</td>\n",
       "      <td>9</td>\n",
       "      <td>2008</td>\n",
       "      <td>WD</td>\n",
       "      <td>Normal</td>\n",
       "      <td>223500</td>\n",
       "    </tr>\n",
       "    <tr>\n",
       "      <th>3</th>\n",
       "      <td>4</td>\n",
       "      <td>70</td>\n",
       "      <td>RL</td>\n",
       "      <td>60.0</td>\n",
       "      <td>9550</td>\n",
       "      <td>Pave</td>\n",
       "      <td>NaN</td>\n",
       "      <td>IR1</td>\n",
       "      <td>Lvl</td>\n",
       "      <td>AllPub</td>\n",
       "      <td>...</td>\n",
       "      <td>0</td>\n",
       "      <td>NaN</td>\n",
       "      <td>NaN</td>\n",
       "      <td>NaN</td>\n",
       "      <td>0</td>\n",
       "      <td>2</td>\n",
       "      <td>2006</td>\n",
       "      <td>WD</td>\n",
       "      <td>Abnorml</td>\n",
       "      <td>140000</td>\n",
       "    </tr>\n",
       "    <tr>\n",
       "      <th>4</th>\n",
       "      <td>5</td>\n",
       "      <td>60</td>\n",
       "      <td>RL</td>\n",
       "      <td>84.0</td>\n",
       "      <td>14260</td>\n",
       "      <td>Pave</td>\n",
       "      <td>NaN</td>\n",
       "      <td>IR1</td>\n",
       "      <td>Lvl</td>\n",
       "      <td>AllPub</td>\n",
       "      <td>...</td>\n",
       "      <td>0</td>\n",
       "      <td>NaN</td>\n",
       "      <td>NaN</td>\n",
       "      <td>NaN</td>\n",
       "      <td>0</td>\n",
       "      <td>12</td>\n",
       "      <td>2008</td>\n",
       "      <td>WD</td>\n",
       "      <td>Normal</td>\n",
       "      <td>250000</td>\n",
       "    </tr>\n",
       "    <tr>\n",
       "      <th>...</th>\n",
       "      <td>...</td>\n",
       "      <td>...</td>\n",
       "      <td>...</td>\n",
       "      <td>...</td>\n",
       "      <td>...</td>\n",
       "      <td>...</td>\n",
       "      <td>...</td>\n",
       "      <td>...</td>\n",
       "      <td>...</td>\n",
       "      <td>...</td>\n",
       "      <td>...</td>\n",
       "      <td>...</td>\n",
       "      <td>...</td>\n",
       "      <td>...</td>\n",
       "      <td>...</td>\n",
       "      <td>...</td>\n",
       "      <td>...</td>\n",
       "      <td>...</td>\n",
       "      <td>...</td>\n",
       "      <td>...</td>\n",
       "      <td>...</td>\n",
       "    </tr>\n",
       "    <tr>\n",
       "      <th>1455</th>\n",
       "      <td>1456</td>\n",
       "      <td>60</td>\n",
       "      <td>RL</td>\n",
       "      <td>62.0</td>\n",
       "      <td>7917</td>\n",
       "      <td>Pave</td>\n",
       "      <td>NaN</td>\n",
       "      <td>Reg</td>\n",
       "      <td>Lvl</td>\n",
       "      <td>AllPub</td>\n",
       "      <td>...</td>\n",
       "      <td>0</td>\n",
       "      <td>NaN</td>\n",
       "      <td>NaN</td>\n",
       "      <td>NaN</td>\n",
       "      <td>0</td>\n",
       "      <td>8</td>\n",
       "      <td>2007</td>\n",
       "      <td>WD</td>\n",
       "      <td>Normal</td>\n",
       "      <td>175000</td>\n",
       "    </tr>\n",
       "    <tr>\n",
       "      <th>1456</th>\n",
       "      <td>1457</td>\n",
       "      <td>20</td>\n",
       "      <td>RL</td>\n",
       "      <td>85.0</td>\n",
       "      <td>13175</td>\n",
       "      <td>Pave</td>\n",
       "      <td>NaN</td>\n",
       "      <td>Reg</td>\n",
       "      <td>Lvl</td>\n",
       "      <td>AllPub</td>\n",
       "      <td>...</td>\n",
       "      <td>0</td>\n",
       "      <td>NaN</td>\n",
       "      <td>MnPrv</td>\n",
       "      <td>NaN</td>\n",
       "      <td>0</td>\n",
       "      <td>2</td>\n",
       "      <td>2010</td>\n",
       "      <td>WD</td>\n",
       "      <td>Normal</td>\n",
       "      <td>210000</td>\n",
       "    </tr>\n",
       "    <tr>\n",
       "      <th>1457</th>\n",
       "      <td>1458</td>\n",
       "      <td>70</td>\n",
       "      <td>RL</td>\n",
       "      <td>66.0</td>\n",
       "      <td>9042</td>\n",
       "      <td>Pave</td>\n",
       "      <td>NaN</td>\n",
       "      <td>Reg</td>\n",
       "      <td>Lvl</td>\n",
       "      <td>AllPub</td>\n",
       "      <td>...</td>\n",
       "      <td>0</td>\n",
       "      <td>NaN</td>\n",
       "      <td>GdPrv</td>\n",
       "      <td>Shed</td>\n",
       "      <td>2500</td>\n",
       "      <td>5</td>\n",
       "      <td>2010</td>\n",
       "      <td>WD</td>\n",
       "      <td>Normal</td>\n",
       "      <td>266500</td>\n",
       "    </tr>\n",
       "    <tr>\n",
       "      <th>1458</th>\n",
       "      <td>1459</td>\n",
       "      <td>20</td>\n",
       "      <td>RL</td>\n",
       "      <td>68.0</td>\n",
       "      <td>9717</td>\n",
       "      <td>Pave</td>\n",
       "      <td>NaN</td>\n",
       "      <td>Reg</td>\n",
       "      <td>Lvl</td>\n",
       "      <td>AllPub</td>\n",
       "      <td>...</td>\n",
       "      <td>0</td>\n",
       "      <td>NaN</td>\n",
       "      <td>NaN</td>\n",
       "      <td>NaN</td>\n",
       "      <td>0</td>\n",
       "      <td>4</td>\n",
       "      <td>2010</td>\n",
       "      <td>WD</td>\n",
       "      <td>Normal</td>\n",
       "      <td>142125</td>\n",
       "    </tr>\n",
       "    <tr>\n",
       "      <th>1459</th>\n",
       "      <td>1460</td>\n",
       "      <td>20</td>\n",
       "      <td>RL</td>\n",
       "      <td>75.0</td>\n",
       "      <td>9937</td>\n",
       "      <td>Pave</td>\n",
       "      <td>NaN</td>\n",
       "      <td>Reg</td>\n",
       "      <td>Lvl</td>\n",
       "      <td>AllPub</td>\n",
       "      <td>...</td>\n",
       "      <td>0</td>\n",
       "      <td>NaN</td>\n",
       "      <td>NaN</td>\n",
       "      <td>NaN</td>\n",
       "      <td>0</td>\n",
       "      <td>6</td>\n",
       "      <td>2008</td>\n",
       "      <td>WD</td>\n",
       "      <td>Normal</td>\n",
       "      <td>147500</td>\n",
       "    </tr>\n",
       "  </tbody>\n",
       "</table>\n",
       "<p>1460 rows × 81 columns</p>\n",
       "</div>"
      ],
      "text/plain": [
       "        Id  MSSubClass MSZoning  LotFrontage  LotArea Street Alley LotShape  \\\n",
       "0        1          60       RL         65.0     8450   Pave   NaN      Reg   \n",
       "1        2          20       RL         80.0     9600   Pave   NaN      Reg   \n",
       "2        3          60       RL         68.0    11250   Pave   NaN      IR1   \n",
       "3        4          70       RL         60.0     9550   Pave   NaN      IR1   \n",
       "4        5          60       RL         84.0    14260   Pave   NaN      IR1   \n",
       "...    ...         ...      ...          ...      ...    ...   ...      ...   \n",
       "1455  1456          60       RL         62.0     7917   Pave   NaN      Reg   \n",
       "1456  1457          20       RL         85.0    13175   Pave   NaN      Reg   \n",
       "1457  1458          70       RL         66.0     9042   Pave   NaN      Reg   \n",
       "1458  1459          20       RL         68.0     9717   Pave   NaN      Reg   \n",
       "1459  1460          20       RL         75.0     9937   Pave   NaN      Reg   \n",
       "\n",
       "     LandContour Utilities  ... PoolArea PoolQC  Fence MiscFeature MiscVal  \\\n",
       "0            Lvl    AllPub  ...        0    NaN    NaN         NaN       0   \n",
       "1            Lvl    AllPub  ...        0    NaN    NaN         NaN       0   \n",
       "2            Lvl    AllPub  ...        0    NaN    NaN         NaN       0   \n",
       "3            Lvl    AllPub  ...        0    NaN    NaN         NaN       0   \n",
       "4            Lvl    AllPub  ...        0    NaN    NaN         NaN       0   \n",
       "...          ...       ...  ...      ...    ...    ...         ...     ...   \n",
       "1455         Lvl    AllPub  ...        0    NaN    NaN         NaN       0   \n",
       "1456         Lvl    AllPub  ...        0    NaN  MnPrv         NaN       0   \n",
       "1457         Lvl    AllPub  ...        0    NaN  GdPrv        Shed    2500   \n",
       "1458         Lvl    AllPub  ...        0    NaN    NaN         NaN       0   \n",
       "1459         Lvl    AllPub  ...        0    NaN    NaN         NaN       0   \n",
       "\n",
       "     MoSold YrSold  SaleType  SaleCondition  SalePrice  \n",
       "0         2   2008        WD         Normal     208500  \n",
       "1         5   2007        WD         Normal     181500  \n",
       "2         9   2008        WD         Normal     223500  \n",
       "3         2   2006        WD        Abnorml     140000  \n",
       "4        12   2008        WD         Normal     250000  \n",
       "...     ...    ...       ...            ...        ...  \n",
       "1455      8   2007        WD         Normal     175000  \n",
       "1456      2   2010        WD         Normal     210000  \n",
       "1457      5   2010        WD         Normal     266500  \n",
       "1458      4   2010        WD         Normal     142125  \n",
       "1459      6   2008        WD         Normal     147500  \n",
       "\n",
       "[1460 rows x 81 columns]"
      ]
     },
     "execution_count": 2,
     "metadata": {},
     "output_type": "execute_result"
    }
   ],
   "source": [
    "df_train = pd.read_csv('./dataset/train.csv')\n",
    "df_train"
   ]
  },
  {
   "cell_type": "markdown",
   "id": "d12c9d1b",
   "metadata": {
    "papermill": {
     "duration": 0.019318,
     "end_time": "2023-08-23T13:07:15.493384",
     "exception": false,
     "start_time": "2023-08-23T13:07:15.474066",
     "status": "completed"
    },
    "tags": []
   },
   "source": [
    "# EDA"
   ]
  },
  {
   "cell_type": "code",
   "execution_count": 3,
   "id": "830002f0",
   "metadata": {
    "execution": {
     "iopub.execute_input": "2023-08-23T13:07:15.535526Z",
     "iopub.status.busy": "2023-08-23T13:07:15.534207Z",
     "iopub.status.idle": "2023-08-23T13:07:15.563632Z",
     "shell.execute_reply": "2023-08-23T13:07:15.562420Z"
    },
    "papermill": {
     "duration": 0.052934,
     "end_time": "2023-08-23T13:07:15.566323",
     "exception": false,
     "start_time": "2023-08-23T13:07:15.513389",
     "status": "completed"
    },
    "tags": []
   },
   "outputs": [
    {
     "data": {
      "text/html": [
       "<div>\n",
       "<style scoped>\n",
       "    .dataframe tbody tr th:only-of-type {\n",
       "        vertical-align: middle;\n",
       "    }\n",
       "\n",
       "    .dataframe tbody tr th {\n",
       "        vertical-align: top;\n",
       "    }\n",
       "\n",
       "    .dataframe thead th {\n",
       "        text-align: right;\n",
       "    }\n",
       "</style>\n",
       "<table border=\"1\" class=\"dataframe\">\n",
       "  <thead>\n",
       "    <tr style=\"text-align: right;\">\n",
       "      <th></th>\n",
       "      <th>Id</th>\n",
       "      <th>MSSubClass</th>\n",
       "      <th>MSZoning</th>\n",
       "      <th>LotFrontage</th>\n",
       "      <th>LotArea</th>\n",
       "      <th>Street</th>\n",
       "      <th>Alley</th>\n",
       "      <th>LotShape</th>\n",
       "      <th>LandContour</th>\n",
       "      <th>Utilities</th>\n",
       "      <th>...</th>\n",
       "      <th>PoolArea</th>\n",
       "      <th>PoolQC</th>\n",
       "      <th>Fence</th>\n",
       "      <th>MiscFeature</th>\n",
       "      <th>MiscVal</th>\n",
       "      <th>MoSold</th>\n",
       "      <th>YrSold</th>\n",
       "      <th>SaleType</th>\n",
       "      <th>SaleCondition</th>\n",
       "      <th>SalePrice</th>\n",
       "    </tr>\n",
       "  </thead>\n",
       "  <tbody>\n",
       "    <tr>\n",
       "      <th>601</th>\n",
       "      <td>602</td>\n",
       "      <td>50</td>\n",
       "      <td>RM</td>\n",
       "      <td>50.0</td>\n",
       "      <td>9000</td>\n",
       "      <td>Pave</td>\n",
       "      <td>NaN</td>\n",
       "      <td>Reg</td>\n",
       "      <td>Bnk</td>\n",
       "      <td>AllPub</td>\n",
       "      <td>...</td>\n",
       "      <td>0</td>\n",
       "      <td>NaN</td>\n",
       "      <td>NaN</td>\n",
       "      <td>NaN</td>\n",
       "      <td>0</td>\n",
       "      <td>12</td>\n",
       "      <td>2007</td>\n",
       "      <td>WD</td>\n",
       "      <td>Normal</td>\n",
       "      <td>141000</td>\n",
       "    </tr>\n",
       "    <tr>\n",
       "      <th>2</th>\n",
       "      <td>3</td>\n",
       "      <td>60</td>\n",
       "      <td>RL</td>\n",
       "      <td>68.0</td>\n",
       "      <td>11250</td>\n",
       "      <td>Pave</td>\n",
       "      <td>NaN</td>\n",
       "      <td>IR1</td>\n",
       "      <td>Lvl</td>\n",
       "      <td>AllPub</td>\n",
       "      <td>...</td>\n",
       "      <td>0</td>\n",
       "      <td>NaN</td>\n",
       "      <td>NaN</td>\n",
       "      <td>NaN</td>\n",
       "      <td>0</td>\n",
       "      <td>9</td>\n",
       "      <td>2008</td>\n",
       "      <td>WD</td>\n",
       "      <td>Normal</td>\n",
       "      <td>223500</td>\n",
       "    </tr>\n",
       "    <tr>\n",
       "      <th>381</th>\n",
       "      <td>382</td>\n",
       "      <td>20</td>\n",
       "      <td>FV</td>\n",
       "      <td>60.0</td>\n",
       "      <td>7200</td>\n",
       "      <td>Pave</td>\n",
       "      <td>Pave</td>\n",
       "      <td>Reg</td>\n",
       "      <td>Lvl</td>\n",
       "      <td>AllPub</td>\n",
       "      <td>...</td>\n",
       "      <td>0</td>\n",
       "      <td>NaN</td>\n",
       "      <td>NaN</td>\n",
       "      <td>NaN</td>\n",
       "      <td>0</td>\n",
       "      <td>8</td>\n",
       "      <td>2006</td>\n",
       "      <td>New</td>\n",
       "      <td>Partial</td>\n",
       "      <td>187750</td>\n",
       "    </tr>\n",
       "    <tr>\n",
       "      <th>1336</th>\n",
       "      <td>1337</td>\n",
       "      <td>90</td>\n",
       "      <td>RL</td>\n",
       "      <td>87.0</td>\n",
       "      <td>9246</td>\n",
       "      <td>Pave</td>\n",
       "      <td>NaN</td>\n",
       "      <td>IR1</td>\n",
       "      <td>Lvl</td>\n",
       "      <td>AllPub</td>\n",
       "      <td>...</td>\n",
       "      <td>0</td>\n",
       "      <td>NaN</td>\n",
       "      <td>NaN</td>\n",
       "      <td>NaN</td>\n",
       "      <td>0</td>\n",
       "      <td>11</td>\n",
       "      <td>2008</td>\n",
       "      <td>WD</td>\n",
       "      <td>Normal</td>\n",
       "      <td>135000</td>\n",
       "    </tr>\n",
       "    <tr>\n",
       "      <th>1205</th>\n",
       "      <td>1206</td>\n",
       "      <td>20</td>\n",
       "      <td>RL</td>\n",
       "      <td>90.0</td>\n",
       "      <td>14684</td>\n",
       "      <td>Pave</td>\n",
       "      <td>NaN</td>\n",
       "      <td>IR1</td>\n",
       "      <td>Lvl</td>\n",
       "      <td>AllPub</td>\n",
       "      <td>...</td>\n",
       "      <td>0</td>\n",
       "      <td>NaN</td>\n",
       "      <td>NaN</td>\n",
       "      <td>NaN</td>\n",
       "      <td>0</td>\n",
       "      <td>6</td>\n",
       "      <td>2009</td>\n",
       "      <td>WD</td>\n",
       "      <td>Normal</td>\n",
       "      <td>271900</td>\n",
       "    </tr>\n",
       "    <tr>\n",
       "      <th>267</th>\n",
       "      <td>268</td>\n",
       "      <td>75</td>\n",
       "      <td>RL</td>\n",
       "      <td>60.0</td>\n",
       "      <td>8400</td>\n",
       "      <td>Pave</td>\n",
       "      <td>NaN</td>\n",
       "      <td>Reg</td>\n",
       "      <td>Bnk</td>\n",
       "      <td>AllPub</td>\n",
       "      <td>...</td>\n",
       "      <td>0</td>\n",
       "      <td>NaN</td>\n",
       "      <td>NaN</td>\n",
       "      <td>NaN</td>\n",
       "      <td>0</td>\n",
       "      <td>7</td>\n",
       "      <td>2008</td>\n",
       "      <td>WD</td>\n",
       "      <td>Normal</td>\n",
       "      <td>179500</td>\n",
       "    </tr>\n",
       "    <tr>\n",
       "      <th>1213</th>\n",
       "      <td>1214</td>\n",
       "      <td>80</td>\n",
       "      <td>RL</td>\n",
       "      <td>NaN</td>\n",
       "      <td>10246</td>\n",
       "      <td>Pave</td>\n",
       "      <td>NaN</td>\n",
       "      <td>IR1</td>\n",
       "      <td>Lvl</td>\n",
       "      <td>AllPub</td>\n",
       "      <td>...</td>\n",
       "      <td>0</td>\n",
       "      <td>NaN</td>\n",
       "      <td>NaN</td>\n",
       "      <td>NaN</td>\n",
       "      <td>0</td>\n",
       "      <td>5</td>\n",
       "      <td>2006</td>\n",
       "      <td>WD</td>\n",
       "      <td>Normal</td>\n",
       "      <td>145000</td>\n",
       "    </tr>\n",
       "    <tr>\n",
       "      <th>1131</th>\n",
       "      <td>1132</td>\n",
       "      <td>20</td>\n",
       "      <td>RL</td>\n",
       "      <td>63.0</td>\n",
       "      <td>10712</td>\n",
       "      <td>Pave</td>\n",
       "      <td>NaN</td>\n",
       "      <td>Reg</td>\n",
       "      <td>Lvl</td>\n",
       "      <td>AllPub</td>\n",
       "      <td>...</td>\n",
       "      <td>0</td>\n",
       "      <td>NaN</td>\n",
       "      <td>MnPrv</td>\n",
       "      <td>NaN</td>\n",
       "      <td>0</td>\n",
       "      <td>9</td>\n",
       "      <td>2007</td>\n",
       "      <td>Oth</td>\n",
       "      <td>Abnorml</td>\n",
       "      <td>93500</td>\n",
       "    </tr>\n",
       "    <tr>\n",
       "      <th>1061</th>\n",
       "      <td>1062</td>\n",
       "      <td>30</td>\n",
       "      <td>C (all)</td>\n",
       "      <td>120.0</td>\n",
       "      <td>18000</td>\n",
       "      <td>Grvl</td>\n",
       "      <td>NaN</td>\n",
       "      <td>Reg</td>\n",
       "      <td>Low</td>\n",
       "      <td>AllPub</td>\n",
       "      <td>...</td>\n",
       "      <td>0</td>\n",
       "      <td>NaN</td>\n",
       "      <td>NaN</td>\n",
       "      <td>Shed</td>\n",
       "      <td>560</td>\n",
       "      <td>8</td>\n",
       "      <td>2008</td>\n",
       "      <td>ConLD</td>\n",
       "      <td>Normal</td>\n",
       "      <td>81000</td>\n",
       "    </tr>\n",
       "    <tr>\n",
       "      <th>342</th>\n",
       "      <td>343</td>\n",
       "      <td>90</td>\n",
       "      <td>RL</td>\n",
       "      <td>NaN</td>\n",
       "      <td>8544</td>\n",
       "      <td>Pave</td>\n",
       "      <td>NaN</td>\n",
       "      <td>Reg</td>\n",
       "      <td>Lvl</td>\n",
       "      <td>AllPub</td>\n",
       "      <td>...</td>\n",
       "      <td>0</td>\n",
       "      <td>NaN</td>\n",
       "      <td>NaN</td>\n",
       "      <td>NaN</td>\n",
       "      <td>0</td>\n",
       "      <td>5</td>\n",
       "      <td>2006</td>\n",
       "      <td>WD</td>\n",
       "      <td>Normal</td>\n",
       "      <td>87500</td>\n",
       "    </tr>\n",
       "  </tbody>\n",
       "</table>\n",
       "<p>10 rows × 81 columns</p>\n",
       "</div>"
      ],
      "text/plain": [
       "        Id  MSSubClass MSZoning  LotFrontage  LotArea Street Alley LotShape  \\\n",
       "601    602          50       RM         50.0     9000   Pave   NaN      Reg   \n",
       "2        3          60       RL         68.0    11250   Pave   NaN      IR1   \n",
       "381    382          20       FV         60.0     7200   Pave  Pave      Reg   \n",
       "1336  1337          90       RL         87.0     9246   Pave   NaN      IR1   \n",
       "1205  1206          20       RL         90.0    14684   Pave   NaN      IR1   \n",
       "267    268          75       RL         60.0     8400   Pave   NaN      Reg   \n",
       "1213  1214          80       RL          NaN    10246   Pave   NaN      IR1   \n",
       "1131  1132          20       RL         63.0    10712   Pave   NaN      Reg   \n",
       "1061  1062          30  C (all)        120.0    18000   Grvl   NaN      Reg   \n",
       "342    343          90       RL          NaN     8544   Pave   NaN      Reg   \n",
       "\n",
       "     LandContour Utilities  ... PoolArea PoolQC  Fence MiscFeature MiscVal  \\\n",
       "601          Bnk    AllPub  ...        0    NaN    NaN         NaN       0   \n",
       "2            Lvl    AllPub  ...        0    NaN    NaN         NaN       0   \n",
       "381          Lvl    AllPub  ...        0    NaN    NaN         NaN       0   \n",
       "1336         Lvl    AllPub  ...        0    NaN    NaN         NaN       0   \n",
       "1205         Lvl    AllPub  ...        0    NaN    NaN         NaN       0   \n",
       "267          Bnk    AllPub  ...        0    NaN    NaN         NaN       0   \n",
       "1213         Lvl    AllPub  ...        0    NaN    NaN         NaN       0   \n",
       "1131         Lvl    AllPub  ...        0    NaN  MnPrv         NaN       0   \n",
       "1061         Low    AllPub  ...        0    NaN    NaN        Shed     560   \n",
       "342          Lvl    AllPub  ...        0    NaN    NaN         NaN       0   \n",
       "\n",
       "     MoSold YrSold  SaleType  SaleCondition  SalePrice  \n",
       "601      12   2007        WD         Normal     141000  \n",
       "2         9   2008        WD         Normal     223500  \n",
       "381       8   2006       New        Partial     187750  \n",
       "1336     11   2008        WD         Normal     135000  \n",
       "1205      6   2009        WD         Normal     271900  \n",
       "267       7   2008        WD         Normal     179500  \n",
       "1213      5   2006        WD         Normal     145000  \n",
       "1131      9   2007       Oth        Abnorml      93500  \n",
       "1061      8   2008     ConLD         Normal      81000  \n",
       "342       5   2006        WD         Normal      87500  \n",
       "\n",
       "[10 rows x 81 columns]"
      ]
     },
     "execution_count": 3,
     "metadata": {},
     "output_type": "execute_result"
    }
   ],
   "source": [
    "df_train.sample(10)"
   ]
  },
  {
   "cell_type": "code",
   "execution_count": 4,
   "id": "4fdc1b56",
   "metadata": {
    "execution": {
     "iopub.execute_input": "2023-08-23T13:07:15.608426Z",
     "iopub.status.busy": "2023-08-23T13:07:15.607980Z",
     "iopub.status.idle": "2023-08-23T13:07:15.661246Z",
     "shell.execute_reply": "2023-08-23T13:07:15.659319Z"
    },
    "papermill": {
     "duration": 0.077832,
     "end_time": "2023-08-23T13:07:15.663835",
     "exception": false,
     "start_time": "2023-08-23T13:07:15.586003",
     "status": "completed"
    },
    "tags": []
   },
   "outputs": [
    {
     "name": "stdout",
     "output_type": "stream",
     "text": [
      "<class 'pandas.core.frame.DataFrame'>\n",
      "RangeIndex: 1460 entries, 0 to 1459\n",
      "Data columns (total 81 columns):\n",
      " #   Column         Non-Null Count  Dtype  \n",
      "---  ------         --------------  -----  \n",
      " 0   Id             1460 non-null   int64  \n",
      " 1   MSSubClass     1460 non-null   int64  \n",
      " 2   MSZoning       1460 non-null   object \n",
      " 3   LotFrontage    1201 non-null   float64\n",
      " 4   LotArea        1460 non-null   int64  \n",
      " 5   Street         1460 non-null   object \n",
      " 6   Alley          91 non-null     object \n",
      " 7   LotShape       1460 non-null   object \n",
      " 8   LandContour    1460 non-null   object \n",
      " 9   Utilities      1460 non-null   object \n",
      " 10  LotConfig      1460 non-null   object \n",
      " 11  LandSlope      1460 non-null   object \n",
      " 12  Neighborhood   1460 non-null   object \n",
      " 13  Condition1     1460 non-null   object \n",
      " 14  Condition2     1460 non-null   object \n",
      " 15  BldgType       1460 non-null   object \n",
      " 16  HouseStyle     1460 non-null   object \n",
      " 17  OverallQual    1460 non-null   int64  \n",
      " 18  OverallCond    1460 non-null   int64  \n",
      " 19  YearBuilt      1460 non-null   int64  \n",
      " 20  YearRemodAdd   1460 non-null   int64  \n",
      " 21  RoofStyle      1460 non-null   object \n",
      " 22  RoofMatl       1460 non-null   object \n",
      " 23  Exterior1st    1460 non-null   object \n",
      " 24  Exterior2nd    1460 non-null   object \n",
      " 25  MasVnrType     1452 non-null   object \n",
      " 26  MasVnrArea     1452 non-null   float64\n",
      " 27  ExterQual      1460 non-null   object \n",
      " 28  ExterCond      1460 non-null   object \n",
      " 29  Foundation     1460 non-null   object \n",
      " 30  BsmtQual       1423 non-null   object \n",
      " 31  BsmtCond       1423 non-null   object \n",
      " 32  BsmtExposure   1422 non-null   object \n",
      " 33  BsmtFinType1   1423 non-null   object \n",
      " 34  BsmtFinSF1     1460 non-null   int64  \n",
      " 35  BsmtFinType2   1422 non-null   object \n",
      " 36  BsmtFinSF2     1460 non-null   int64  \n",
      " 37  BsmtUnfSF      1460 non-null   int64  \n",
      " 38  TotalBsmtSF    1460 non-null   int64  \n",
      " 39  Heating        1460 non-null   object \n",
      " 40  HeatingQC      1460 non-null   object \n",
      " 41  CentralAir     1460 non-null   object \n",
      " 42  Electrical     1459 non-null   object \n",
      " 43  1stFlrSF       1460 non-null   int64  \n",
      " 44  2ndFlrSF       1460 non-null   int64  \n",
      " 45  LowQualFinSF   1460 non-null   int64  \n",
      " 46  GrLivArea      1460 non-null   int64  \n",
      " 47  BsmtFullBath   1460 non-null   int64  \n",
      " 48  BsmtHalfBath   1460 non-null   int64  \n",
      " 49  FullBath       1460 non-null   int64  \n",
      " 50  HalfBath       1460 non-null   int64  \n",
      " 51  BedroomAbvGr   1460 non-null   int64  \n",
      " 52  KitchenAbvGr   1460 non-null   int64  \n",
      " 53  KitchenQual    1460 non-null   object \n",
      " 54  TotRmsAbvGrd   1460 non-null   int64  \n",
      " 55  Functional     1460 non-null   object \n",
      " 56  Fireplaces     1460 non-null   int64  \n",
      " 57  FireplaceQu    770 non-null    object \n",
      " 58  GarageType     1379 non-null   object \n",
      " 59  GarageYrBlt    1379 non-null   float64\n",
      " 60  GarageFinish   1379 non-null   object \n",
      " 61  GarageCars     1460 non-null   int64  \n",
      " 62  GarageArea     1460 non-null   int64  \n",
      " 63  GarageQual     1379 non-null   object \n",
      " 64  GarageCond     1379 non-null   object \n",
      " 65  PavedDrive     1460 non-null   object \n",
      " 66  WoodDeckSF     1460 non-null   int64  \n",
      " 67  OpenPorchSF    1460 non-null   int64  \n",
      " 68  EnclosedPorch  1460 non-null   int64  \n",
      " 69  3SsnPorch      1460 non-null   int64  \n",
      " 70  ScreenPorch    1460 non-null   int64  \n",
      " 71  PoolArea       1460 non-null   int64  \n",
      " 72  PoolQC         7 non-null      object \n",
      " 73  Fence          281 non-null    object \n",
      " 74  MiscFeature    54 non-null     object \n",
      " 75  MiscVal        1460 non-null   int64  \n",
      " 76  MoSold         1460 non-null   int64  \n",
      " 77  YrSold         1460 non-null   int64  \n",
      " 78  SaleType       1460 non-null   object \n",
      " 79  SaleCondition  1460 non-null   object \n",
      " 80  SalePrice      1460 non-null   int64  \n",
      "dtypes: float64(3), int64(35), object(43)\n",
      "memory usage: 924.0+ KB\n"
     ]
    }
   ],
   "source": [
    "df_train.info()"
   ]
  },
  {
   "cell_type": "markdown",
   "id": "7628604c",
   "metadata": {
    "papermill": {
     "duration": 0.019432,
     "end_time": "2023-08-23T13:07:15.703135",
     "exception": false,
     "start_time": "2023-08-23T13:07:15.683703",
     "status": "completed"
    },
    "tags": []
   },
   "source": [
    "#### Data has alot of null values"
   ]
  },
  {
   "cell_type": "markdown",
   "id": "b5a3f75e",
   "metadata": {
    "papermill": {
     "duration": 0.019255,
     "end_time": "2023-08-23T13:07:15.741903",
     "exception": false,
     "start_time": "2023-08-23T13:07:15.722648",
     "status": "completed"
    },
    "tags": []
   },
   "source": [
    "## Cleaning"
   ]
  },
  {
   "cell_type": "code",
   "execution_count": 5,
   "id": "d041af8e",
   "metadata": {
    "execution": {
     "iopub.execute_input": "2023-08-23T13:07:15.784521Z",
     "iopub.status.busy": "2023-08-23T13:07:15.784088Z",
     "iopub.status.idle": "2023-08-23T13:07:15.815400Z",
     "shell.execute_reply": "2023-08-23T13:07:15.814211Z"
    },
    "papermill": {
     "duration": 0.05559,
     "end_time": "2023-08-23T13:07:15.817939",
     "exception": false,
     "start_time": "2023-08-23T13:07:15.762349",
     "status": "completed"
    },
    "tags": []
   },
   "outputs": [
    {
     "data": {
      "text/plain": [
       "Id                0.000000\n",
       "MSSubClass        0.000000\n",
       "MSZoning          0.000000\n",
       "LotFrontage      17.739726\n",
       "LotArea           0.000000\n",
       "                   ...    \n",
       "MoSold            0.000000\n",
       "YrSold            0.000000\n",
       "SaleType          0.000000\n",
       "SaleCondition     0.000000\n",
       "SalePrice         0.000000\n",
       "Length: 81, dtype: float64"
      ]
     },
     "execution_count": 5,
     "metadata": {},
     "output_type": "execute_result"
    }
   ],
   "source": [
    "df=df_train.isnull().sum()/df_train.shape[0]*100\n",
    "df                        "
   ]
  },
  {
   "cell_type": "markdown",
   "id": "901f6faf",
   "metadata": {
    "papermill": {
     "duration": 0.020269,
     "end_time": "2023-08-23T13:07:15.858487",
     "exception": false,
     "start_time": "2023-08-23T13:07:15.838218",
     "status": "completed"
    },
    "tags": []
   },
   "source": [
    "#### Data has missing value more than 50% at some columns so i will drop it"
   ]
  },
  {
   "cell_type": "code",
   "execution_count": 6,
   "id": "f3895c66",
   "metadata": {
    "execution": {
     "iopub.execute_input": "2023-08-23T13:07:15.900489Z",
     "iopub.status.busy": "2023-08-23T13:07:15.900024Z",
     "iopub.status.idle": "2023-08-23T13:07:15.939587Z",
     "shell.execute_reply": "2023-08-23T13:07:15.937442Z"
    },
    "papermill": {
     "duration": 0.063755,
     "end_time": "2023-08-23T13:07:15.942463",
     "exception": false,
     "start_time": "2023-08-23T13:07:15.878708",
     "status": "completed"
    },
    "tags": []
   },
   "outputs": [
    {
     "name": "stdout",
     "output_type": "stream",
     "text": [
      "<class 'pandas.core.frame.DataFrame'>\n",
      "RangeIndex: 1460 entries, 0 to 1459\n",
      "Data columns (total 81 columns):\n",
      " #   Column         Non-Null Count  Dtype  \n",
      "---  ------         --------------  -----  \n",
      " 0   Id             1460 non-null   int64  \n",
      " 1   MSSubClass     1460 non-null   int64  \n",
      " 2   MSZoning       1460 non-null   object \n",
      " 3   LotFrontage    1201 non-null   float64\n",
      " 4   LotArea        1460 non-null   int64  \n",
      " 5   Street         1460 non-null   object \n",
      " 6   Alley          91 non-null     object \n",
      " 7   LotShape       1460 non-null   object \n",
      " 8   LandContour    1460 non-null   object \n",
      " 9   Utilities      1460 non-null   object \n",
      " 10  LotConfig      1460 non-null   object \n",
      " 11  LandSlope      1460 non-null   object \n",
      " 12  Neighborhood   1460 non-null   object \n",
      " 13  Condition1     1460 non-null   object \n",
      " 14  Condition2     1460 non-null   object \n",
      " 15  BldgType       1460 non-null   object \n",
      " 16  HouseStyle     1460 non-null   object \n",
      " 17  OverallQual    1460 non-null   int64  \n",
      " 18  OverallCond    1460 non-null   int64  \n",
      " 19  YearBuilt      1460 non-null   int64  \n",
      " 20  YearRemodAdd   1460 non-null   int64  \n",
      " 21  RoofStyle      1460 non-null   object \n",
      " 22  RoofMatl       1460 non-null   object \n",
      " 23  Exterior1st    1460 non-null   object \n",
      " 24  Exterior2nd    1460 non-null   object \n",
      " 25  MasVnrType     1452 non-null   object \n",
      " 26  MasVnrArea     1452 non-null   float64\n",
      " 27  ExterQual      1460 non-null   object \n",
      " 28  ExterCond      1460 non-null   object \n",
      " 29  Foundation     1460 non-null   object \n",
      " 30  BsmtQual       1423 non-null   object \n",
      " 31  BsmtCond       1423 non-null   object \n",
      " 32  BsmtExposure   1422 non-null   object \n",
      " 33  BsmtFinType1   1423 non-null   object \n",
      " 34  BsmtFinSF1     1460 non-null   int64  \n",
      " 35  BsmtFinType2   1422 non-null   object \n",
      " 36  BsmtFinSF2     1460 non-null   int64  \n",
      " 37  BsmtUnfSF      1460 non-null   int64  \n",
      " 38  TotalBsmtSF    1460 non-null   int64  \n",
      " 39  Heating        1460 non-null   object \n",
      " 40  HeatingQC      1460 non-null   object \n",
      " 41  CentralAir     1460 non-null   object \n",
      " 42  Electrical     1459 non-null   object \n",
      " 43  1stFlrSF       1460 non-null   int64  \n",
      " 44  2ndFlrSF       1460 non-null   int64  \n",
      " 45  LowQualFinSF   1460 non-null   int64  \n",
      " 46  GrLivArea      1460 non-null   int64  \n",
      " 47  BsmtFullBath   1460 non-null   int64  \n",
      " 48  BsmtHalfBath   1460 non-null   int64  \n",
      " 49  FullBath       1460 non-null   int64  \n",
      " 50  HalfBath       1460 non-null   int64  \n",
      " 51  BedroomAbvGr   1460 non-null   int64  \n",
      " 52  KitchenAbvGr   1460 non-null   int64  \n",
      " 53  KitchenQual    1460 non-null   object \n",
      " 54  TotRmsAbvGrd   1460 non-null   int64  \n",
      " 55  Functional     1460 non-null   object \n",
      " 56  Fireplaces     1460 non-null   int64  \n",
      " 57  FireplaceQu    770 non-null    object \n",
      " 58  GarageType     1379 non-null   object \n",
      " 59  GarageYrBlt    1379 non-null   float64\n",
      " 60  GarageFinish   1379 non-null   object \n",
      " 61  GarageCars     1460 non-null   int64  \n",
      " 62  GarageArea     1460 non-null   int64  \n",
      " 63  GarageQual     1379 non-null   object \n",
      " 64  GarageCond     1379 non-null   object \n",
      " 65  PavedDrive     1460 non-null   object \n",
      " 66  WoodDeckSF     1460 non-null   int64  \n",
      " 67  OpenPorchSF    1460 non-null   int64  \n",
      " 68  EnclosedPorch  1460 non-null   int64  \n",
      " 69  3SsnPorch      1460 non-null   int64  \n",
      " 70  ScreenPorch    1460 non-null   int64  \n",
      " 71  PoolArea       1460 non-null   int64  \n",
      " 72  PoolQC         7 non-null      object \n",
      " 73  Fence          281 non-null    object \n",
      " 74  MiscFeature    54 non-null     object \n",
      " 75  MiscVal        1460 non-null   int64  \n",
      " 76  MoSold         1460 non-null   int64  \n",
      " 77  YrSold         1460 non-null   int64  \n",
      " 78  SaleType       1460 non-null   object \n",
      " 79  SaleCondition  1460 non-null   object \n",
      " 80  SalePrice      1460 non-null   int64  \n",
      "dtypes: float64(3), int64(35), object(43)\n",
      "memory usage: 924.0+ KB\n"
     ]
    }
   ],
   "source": [
    "df_train.info()"
   ]
  },
  {
   "cell_type": "code",
   "execution_count": 7,
   "id": "125a0f46",
   "metadata": {
    "execution": {
     "iopub.execute_input": "2023-08-23T13:07:15.985354Z",
     "iopub.status.busy": "2023-08-23T13:07:15.984909Z",
     "iopub.status.idle": "2023-08-23T13:07:16.066707Z",
     "shell.execute_reply": "2023-08-23T13:07:16.065553Z"
    },
    "papermill": {
     "duration": 0.106449,
     "end_time": "2023-08-23T13:07:16.069592",
     "exception": false,
     "start_time": "2023-08-23T13:07:15.963143",
     "status": "completed"
    },
    "tags": []
   },
   "outputs": [
    {
     "data": {
      "text/html": [
       "<div>\n",
       "<style scoped>\n",
       "    .dataframe tbody tr th:only-of-type {\n",
       "        vertical-align: middle;\n",
       "    }\n",
       "\n",
       "    .dataframe tbody tr th {\n",
       "        vertical-align: top;\n",
       "    }\n",
       "\n",
       "    .dataframe thead th {\n",
       "        text-align: right;\n",
       "    }\n",
       "</style>\n",
       "<table border=\"1\" class=\"dataframe\">\n",
       "  <thead>\n",
       "    <tr style=\"text-align: right;\">\n",
       "      <th></th>\n",
       "      <th>Total</th>\n",
       "      <th>Percent</th>\n",
       "    </tr>\n",
       "  </thead>\n",
       "  <tbody>\n",
       "    <tr>\n",
       "      <th>PoolQC</th>\n",
       "      <td>1453</td>\n",
       "      <td>99.520548</td>\n",
       "    </tr>\n",
       "    <tr>\n",
       "      <th>MiscFeature</th>\n",
       "      <td>1406</td>\n",
       "      <td>96.301370</td>\n",
       "    </tr>\n",
       "    <tr>\n",
       "      <th>Alley</th>\n",
       "      <td>1369</td>\n",
       "      <td>93.767123</td>\n",
       "    </tr>\n",
       "    <tr>\n",
       "      <th>Fence</th>\n",
       "      <td>1179</td>\n",
       "      <td>80.753425</td>\n",
       "    </tr>\n",
       "    <tr>\n",
       "      <th>FireplaceQu</th>\n",
       "      <td>690</td>\n",
       "      <td>47.260274</td>\n",
       "    </tr>\n",
       "    <tr>\n",
       "      <th>LotFrontage</th>\n",
       "      <td>259</td>\n",
       "      <td>17.739726</td>\n",
       "    </tr>\n",
       "    <tr>\n",
       "      <th>GarageYrBlt</th>\n",
       "      <td>81</td>\n",
       "      <td>5.547945</td>\n",
       "    </tr>\n",
       "    <tr>\n",
       "      <th>GarageCond</th>\n",
       "      <td>81</td>\n",
       "      <td>5.547945</td>\n",
       "    </tr>\n",
       "    <tr>\n",
       "      <th>GarageType</th>\n",
       "      <td>81</td>\n",
       "      <td>5.547945</td>\n",
       "    </tr>\n",
       "    <tr>\n",
       "      <th>GarageFinish</th>\n",
       "      <td>81</td>\n",
       "      <td>5.547945</td>\n",
       "    </tr>\n",
       "    <tr>\n",
       "      <th>GarageQual</th>\n",
       "      <td>81</td>\n",
       "      <td>5.547945</td>\n",
       "    </tr>\n",
       "    <tr>\n",
       "      <th>BsmtFinType2</th>\n",
       "      <td>38</td>\n",
       "      <td>2.602740</td>\n",
       "    </tr>\n",
       "    <tr>\n",
       "      <th>BsmtExposure</th>\n",
       "      <td>38</td>\n",
       "      <td>2.602740</td>\n",
       "    </tr>\n",
       "    <tr>\n",
       "      <th>BsmtQual</th>\n",
       "      <td>37</td>\n",
       "      <td>2.534247</td>\n",
       "    </tr>\n",
       "    <tr>\n",
       "      <th>BsmtCond</th>\n",
       "      <td>37</td>\n",
       "      <td>2.534247</td>\n",
       "    </tr>\n",
       "    <tr>\n",
       "      <th>BsmtFinType1</th>\n",
       "      <td>37</td>\n",
       "      <td>2.534247</td>\n",
       "    </tr>\n",
       "    <tr>\n",
       "      <th>MasVnrArea</th>\n",
       "      <td>8</td>\n",
       "      <td>0.547945</td>\n",
       "    </tr>\n",
       "    <tr>\n",
       "      <th>MasVnrType</th>\n",
       "      <td>8</td>\n",
       "      <td>0.547945</td>\n",
       "    </tr>\n",
       "    <tr>\n",
       "      <th>Electrical</th>\n",
       "      <td>1</td>\n",
       "      <td>0.068493</td>\n",
       "    </tr>\n",
       "  </tbody>\n",
       "</table>\n",
       "</div>"
      ],
      "text/plain": [
       "              Total    Percent\n",
       "PoolQC         1453  99.520548\n",
       "MiscFeature    1406  96.301370\n",
       "Alley          1369  93.767123\n",
       "Fence          1179  80.753425\n",
       "FireplaceQu     690  47.260274\n",
       "LotFrontage     259  17.739726\n",
       "GarageYrBlt      81   5.547945\n",
       "GarageCond       81   5.547945\n",
       "GarageType       81   5.547945\n",
       "GarageFinish     81   5.547945\n",
       "GarageQual       81   5.547945\n",
       "BsmtFinType2     38   2.602740\n",
       "BsmtExposure     38   2.602740\n",
       "BsmtQual         37   2.534247\n",
       "BsmtCond         37   2.534247\n",
       "BsmtFinType1     37   2.534247\n",
       "MasVnrArea        8   0.547945\n",
       "MasVnrType        8   0.547945\n",
       "Electrical        1   0.068493"
      ]
     },
     "execution_count": 7,
     "metadata": {},
     "output_type": "execute_result"
    }
   ],
   "source": [
    "totalnull = df_train.isnull().sum().sort_values(ascending=False)\n",
    "percent = (df_train.isnull().sum()/df_train.isnull().count()*100).sort_values(ascending=False)\n",
    "missing_data = pd.concat([totalnull, percent], axis=1, keys=['Total', 'Percent'])\n",
    "missing_data.head(19)"
   ]
  },
  {
   "cell_type": "code",
   "execution_count": 8,
   "id": "4add96ec",
   "metadata": {
    "execution": {
     "iopub.execute_input": "2023-08-23T13:07:16.112233Z",
     "iopub.status.busy": "2023-08-23T13:07:16.111805Z",
     "iopub.status.idle": "2023-08-23T13:07:16.150249Z",
     "shell.execute_reply": "2023-08-23T13:07:16.148969Z"
    },
    "papermill": {
     "duration": 0.062758,
     "end_time": "2023-08-23T13:07:16.152832",
     "exception": false,
     "start_time": "2023-08-23T13:07:16.090074",
     "status": "completed"
    },
    "tags": []
   },
   "outputs": [
    {
     "data": {
      "text/html": [
       "<div>\n",
       "<style scoped>\n",
       "    .dataframe tbody tr th:only-of-type {\n",
       "        vertical-align: middle;\n",
       "    }\n",
       "\n",
       "    .dataframe tbody tr th {\n",
       "        vertical-align: top;\n",
       "    }\n",
       "\n",
       "    .dataframe thead th {\n",
       "        text-align: right;\n",
       "    }\n",
       "</style>\n",
       "<table border=\"1\" class=\"dataframe\">\n",
       "  <thead>\n",
       "    <tr style=\"text-align: right;\">\n",
       "      <th></th>\n",
       "      <th>Id</th>\n",
       "      <th>MSSubClass</th>\n",
       "      <th>MSZoning</th>\n",
       "      <th>LotFrontage</th>\n",
       "      <th>LotArea</th>\n",
       "      <th>Street</th>\n",
       "      <th>Alley</th>\n",
       "      <th>LotShape</th>\n",
       "      <th>LandContour</th>\n",
       "      <th>Utilities</th>\n",
       "      <th>...</th>\n",
       "      <th>PoolArea</th>\n",
       "      <th>PoolQC</th>\n",
       "      <th>Fence</th>\n",
       "      <th>MiscFeature</th>\n",
       "      <th>MiscVal</th>\n",
       "      <th>MoSold</th>\n",
       "      <th>YrSold</th>\n",
       "      <th>SaleType</th>\n",
       "      <th>SaleCondition</th>\n",
       "      <th>SalePrice</th>\n",
       "    </tr>\n",
       "  </thead>\n",
       "  <tbody>\n",
       "  </tbody>\n",
       "</table>\n",
       "<p>0 rows × 81 columns</p>\n",
       "</div>"
      ],
      "text/plain": [
       "Empty DataFrame\n",
       "Columns: [Id, MSSubClass, MSZoning, LotFrontage, LotArea, Street, Alley, LotShape, LandContour, Utilities, LotConfig, LandSlope, Neighborhood, Condition1, Condition2, BldgType, HouseStyle, OverallQual, OverallCond, YearBuilt, YearRemodAdd, RoofStyle, RoofMatl, Exterior1st, Exterior2nd, MasVnrType, MasVnrArea, ExterQual, ExterCond, Foundation, BsmtQual, BsmtCond, BsmtExposure, BsmtFinType1, BsmtFinSF1, BsmtFinType2, BsmtFinSF2, BsmtUnfSF, TotalBsmtSF, Heating, HeatingQC, CentralAir, Electrical, 1stFlrSF, 2ndFlrSF, LowQualFinSF, GrLivArea, BsmtFullBath, BsmtHalfBath, FullBath, HalfBath, BedroomAbvGr, KitchenAbvGr, KitchenQual, TotRmsAbvGrd, Functional, Fireplaces, FireplaceQu, GarageType, GarageYrBlt, GarageFinish, GarageCars, GarageArea, GarageQual, GarageCond, PavedDrive, WoodDeckSF, OpenPorchSF, EnclosedPorch, 3SsnPorch, ScreenPorch, PoolArea, PoolQC, Fence, MiscFeature, MiscVal, MoSold, YrSold, SaleType, SaleCondition, SalePrice]\n",
       "Index: []\n",
       "\n",
       "[0 rows x 81 columns]"
      ]
     },
     "execution_count": 8,
     "metadata": {},
     "output_type": "execute_result"
    }
   ],
   "source": [
    "df_train.dropna()"
   ]
  },
  {
   "cell_type": "code",
   "execution_count": 9,
   "id": "488a437d",
   "metadata": {
    "execution": {
     "iopub.execute_input": "2023-08-23T13:07:16.195967Z",
     "iopub.status.busy": "2023-08-23T13:07:16.195576Z",
     "iopub.status.idle": "2023-08-23T13:07:16.225606Z",
     "shell.execute_reply": "2023-08-23T13:07:16.224449Z"
    },
    "papermill": {
     "duration": 0.054512,
     "end_time": "2023-08-23T13:07:16.228104",
     "exception": false,
     "start_time": "2023-08-23T13:07:16.173592",
     "status": "completed"
    },
    "tags": []
   },
   "outputs": [
    {
     "data": {
      "text/plain": [
       "Id               0\n",
       "MSSubClass       0\n",
       "MSZoning         0\n",
       "LotArea          0\n",
       "Street           0\n",
       "                ..\n",
       "MoSold           0\n",
       "YrSold           0\n",
       "SaleType         0\n",
       "SaleCondition    0\n",
       "SalePrice        0\n",
       "Length: 63, dtype: int64"
      ]
     },
     "execution_count": 9,
     "metadata": {},
     "output_type": "execute_result"
    }
   ],
   "source": [
    "df_train = df_train.drop((missing_data[missing_data['Total'] > 1]).index,axis=1)\n",
    "df_train = df_train.drop(df_train.loc[df_train['Electrical'].isnull()].index)\n",
    "df_train.isnull().sum()"
   ]
  },
  {
   "cell_type": "code",
   "execution_count": 10,
   "id": "c3e32b63",
   "metadata": {
    "execution": {
     "iopub.execute_input": "2023-08-23T13:07:16.272769Z",
     "iopub.status.busy": "2023-08-23T13:07:16.272381Z",
     "iopub.status.idle": "2023-08-23T13:07:16.301496Z",
     "shell.execute_reply": "2023-08-23T13:07:16.300329Z"
    },
    "papermill": {
     "duration": 0.054614,
     "end_time": "2023-08-23T13:07:16.303857",
     "exception": false,
     "start_time": "2023-08-23T13:07:16.249243",
     "status": "completed"
    },
    "tags": []
   },
   "outputs": [
    {
     "data": {
      "text/html": [
       "<div>\n",
       "<style scoped>\n",
       "    .dataframe tbody tr th:only-of-type {\n",
       "        vertical-align: middle;\n",
       "    }\n",
       "\n",
       "    .dataframe tbody tr th {\n",
       "        vertical-align: top;\n",
       "    }\n",
       "\n",
       "    .dataframe thead th {\n",
       "        text-align: right;\n",
       "    }\n",
       "</style>\n",
       "<table border=\"1\" class=\"dataframe\">\n",
       "  <thead>\n",
       "    <tr style=\"text-align: right;\">\n",
       "      <th></th>\n",
       "      <th>Id</th>\n",
       "      <th>MSSubClass</th>\n",
       "      <th>MSZoning</th>\n",
       "      <th>LotArea</th>\n",
       "      <th>Street</th>\n",
       "      <th>LotShape</th>\n",
       "      <th>LandContour</th>\n",
       "      <th>Utilities</th>\n",
       "      <th>LotConfig</th>\n",
       "      <th>LandSlope</th>\n",
       "      <th>...</th>\n",
       "      <th>EnclosedPorch</th>\n",
       "      <th>3SsnPorch</th>\n",
       "      <th>ScreenPorch</th>\n",
       "      <th>PoolArea</th>\n",
       "      <th>MiscVal</th>\n",
       "      <th>MoSold</th>\n",
       "      <th>YrSold</th>\n",
       "      <th>SaleType</th>\n",
       "      <th>SaleCondition</th>\n",
       "      <th>SalePrice</th>\n",
       "    </tr>\n",
       "  </thead>\n",
       "  <tbody>\n",
       "    <tr>\n",
       "      <th>0</th>\n",
       "      <td>1</td>\n",
       "      <td>60</td>\n",
       "      <td>RL</td>\n",
       "      <td>8450</td>\n",
       "      <td>Pave</td>\n",
       "      <td>Reg</td>\n",
       "      <td>Lvl</td>\n",
       "      <td>AllPub</td>\n",
       "      <td>Inside</td>\n",
       "      <td>Gtl</td>\n",
       "      <td>...</td>\n",
       "      <td>0</td>\n",
       "      <td>0</td>\n",
       "      <td>0</td>\n",
       "      <td>0</td>\n",
       "      <td>0</td>\n",
       "      <td>2</td>\n",
       "      <td>2008</td>\n",
       "      <td>WD</td>\n",
       "      <td>Normal</td>\n",
       "      <td>208500</td>\n",
       "    </tr>\n",
       "    <tr>\n",
       "      <th>1</th>\n",
       "      <td>2</td>\n",
       "      <td>20</td>\n",
       "      <td>RL</td>\n",
       "      <td>9600</td>\n",
       "      <td>Pave</td>\n",
       "      <td>Reg</td>\n",
       "      <td>Lvl</td>\n",
       "      <td>AllPub</td>\n",
       "      <td>FR2</td>\n",
       "      <td>Gtl</td>\n",
       "      <td>...</td>\n",
       "      <td>0</td>\n",
       "      <td>0</td>\n",
       "      <td>0</td>\n",
       "      <td>0</td>\n",
       "      <td>0</td>\n",
       "      <td>5</td>\n",
       "      <td>2007</td>\n",
       "      <td>WD</td>\n",
       "      <td>Normal</td>\n",
       "      <td>181500</td>\n",
       "    </tr>\n",
       "    <tr>\n",
       "      <th>2</th>\n",
       "      <td>3</td>\n",
       "      <td>60</td>\n",
       "      <td>RL</td>\n",
       "      <td>11250</td>\n",
       "      <td>Pave</td>\n",
       "      <td>IR1</td>\n",
       "      <td>Lvl</td>\n",
       "      <td>AllPub</td>\n",
       "      <td>Inside</td>\n",
       "      <td>Gtl</td>\n",
       "      <td>...</td>\n",
       "      <td>0</td>\n",
       "      <td>0</td>\n",
       "      <td>0</td>\n",
       "      <td>0</td>\n",
       "      <td>0</td>\n",
       "      <td>9</td>\n",
       "      <td>2008</td>\n",
       "      <td>WD</td>\n",
       "      <td>Normal</td>\n",
       "      <td>223500</td>\n",
       "    </tr>\n",
       "    <tr>\n",
       "      <th>3</th>\n",
       "      <td>4</td>\n",
       "      <td>70</td>\n",
       "      <td>RL</td>\n",
       "      <td>9550</td>\n",
       "      <td>Pave</td>\n",
       "      <td>IR1</td>\n",
       "      <td>Lvl</td>\n",
       "      <td>AllPub</td>\n",
       "      <td>Corner</td>\n",
       "      <td>Gtl</td>\n",
       "      <td>...</td>\n",
       "      <td>272</td>\n",
       "      <td>0</td>\n",
       "      <td>0</td>\n",
       "      <td>0</td>\n",
       "      <td>0</td>\n",
       "      <td>2</td>\n",
       "      <td>2006</td>\n",
       "      <td>WD</td>\n",
       "      <td>Abnorml</td>\n",
       "      <td>140000</td>\n",
       "    </tr>\n",
       "    <tr>\n",
       "      <th>4</th>\n",
       "      <td>5</td>\n",
       "      <td>60</td>\n",
       "      <td>RL</td>\n",
       "      <td>14260</td>\n",
       "      <td>Pave</td>\n",
       "      <td>IR1</td>\n",
       "      <td>Lvl</td>\n",
       "      <td>AllPub</td>\n",
       "      <td>FR2</td>\n",
       "      <td>Gtl</td>\n",
       "      <td>...</td>\n",
       "      <td>0</td>\n",
       "      <td>0</td>\n",
       "      <td>0</td>\n",
       "      <td>0</td>\n",
       "      <td>0</td>\n",
       "      <td>12</td>\n",
       "      <td>2008</td>\n",
       "      <td>WD</td>\n",
       "      <td>Normal</td>\n",
       "      <td>250000</td>\n",
       "    </tr>\n",
       "    <tr>\n",
       "      <th>...</th>\n",
       "      <td>...</td>\n",
       "      <td>...</td>\n",
       "      <td>...</td>\n",
       "      <td>...</td>\n",
       "      <td>...</td>\n",
       "      <td>...</td>\n",
       "      <td>...</td>\n",
       "      <td>...</td>\n",
       "      <td>...</td>\n",
       "      <td>...</td>\n",
       "      <td>...</td>\n",
       "      <td>...</td>\n",
       "      <td>...</td>\n",
       "      <td>...</td>\n",
       "      <td>...</td>\n",
       "      <td>...</td>\n",
       "      <td>...</td>\n",
       "      <td>...</td>\n",
       "      <td>...</td>\n",
       "      <td>...</td>\n",
       "      <td>...</td>\n",
       "    </tr>\n",
       "    <tr>\n",
       "      <th>1455</th>\n",
       "      <td>1456</td>\n",
       "      <td>60</td>\n",
       "      <td>RL</td>\n",
       "      <td>7917</td>\n",
       "      <td>Pave</td>\n",
       "      <td>Reg</td>\n",
       "      <td>Lvl</td>\n",
       "      <td>AllPub</td>\n",
       "      <td>Inside</td>\n",
       "      <td>Gtl</td>\n",
       "      <td>...</td>\n",
       "      <td>0</td>\n",
       "      <td>0</td>\n",
       "      <td>0</td>\n",
       "      <td>0</td>\n",
       "      <td>0</td>\n",
       "      <td>8</td>\n",
       "      <td>2007</td>\n",
       "      <td>WD</td>\n",
       "      <td>Normal</td>\n",
       "      <td>175000</td>\n",
       "    </tr>\n",
       "    <tr>\n",
       "      <th>1456</th>\n",
       "      <td>1457</td>\n",
       "      <td>20</td>\n",
       "      <td>RL</td>\n",
       "      <td>13175</td>\n",
       "      <td>Pave</td>\n",
       "      <td>Reg</td>\n",
       "      <td>Lvl</td>\n",
       "      <td>AllPub</td>\n",
       "      <td>Inside</td>\n",
       "      <td>Gtl</td>\n",
       "      <td>...</td>\n",
       "      <td>0</td>\n",
       "      <td>0</td>\n",
       "      <td>0</td>\n",
       "      <td>0</td>\n",
       "      <td>0</td>\n",
       "      <td>2</td>\n",
       "      <td>2010</td>\n",
       "      <td>WD</td>\n",
       "      <td>Normal</td>\n",
       "      <td>210000</td>\n",
       "    </tr>\n",
       "    <tr>\n",
       "      <th>1457</th>\n",
       "      <td>1458</td>\n",
       "      <td>70</td>\n",
       "      <td>RL</td>\n",
       "      <td>9042</td>\n",
       "      <td>Pave</td>\n",
       "      <td>Reg</td>\n",
       "      <td>Lvl</td>\n",
       "      <td>AllPub</td>\n",
       "      <td>Inside</td>\n",
       "      <td>Gtl</td>\n",
       "      <td>...</td>\n",
       "      <td>0</td>\n",
       "      <td>0</td>\n",
       "      <td>0</td>\n",
       "      <td>0</td>\n",
       "      <td>2500</td>\n",
       "      <td>5</td>\n",
       "      <td>2010</td>\n",
       "      <td>WD</td>\n",
       "      <td>Normal</td>\n",
       "      <td>266500</td>\n",
       "    </tr>\n",
       "    <tr>\n",
       "      <th>1458</th>\n",
       "      <td>1459</td>\n",
       "      <td>20</td>\n",
       "      <td>RL</td>\n",
       "      <td>9717</td>\n",
       "      <td>Pave</td>\n",
       "      <td>Reg</td>\n",
       "      <td>Lvl</td>\n",
       "      <td>AllPub</td>\n",
       "      <td>Inside</td>\n",
       "      <td>Gtl</td>\n",
       "      <td>...</td>\n",
       "      <td>112</td>\n",
       "      <td>0</td>\n",
       "      <td>0</td>\n",
       "      <td>0</td>\n",
       "      <td>0</td>\n",
       "      <td>4</td>\n",
       "      <td>2010</td>\n",
       "      <td>WD</td>\n",
       "      <td>Normal</td>\n",
       "      <td>142125</td>\n",
       "    </tr>\n",
       "    <tr>\n",
       "      <th>1459</th>\n",
       "      <td>1460</td>\n",
       "      <td>20</td>\n",
       "      <td>RL</td>\n",
       "      <td>9937</td>\n",
       "      <td>Pave</td>\n",
       "      <td>Reg</td>\n",
       "      <td>Lvl</td>\n",
       "      <td>AllPub</td>\n",
       "      <td>Inside</td>\n",
       "      <td>Gtl</td>\n",
       "      <td>...</td>\n",
       "      <td>0</td>\n",
       "      <td>0</td>\n",
       "      <td>0</td>\n",
       "      <td>0</td>\n",
       "      <td>0</td>\n",
       "      <td>6</td>\n",
       "      <td>2008</td>\n",
       "      <td>WD</td>\n",
       "      <td>Normal</td>\n",
       "      <td>147500</td>\n",
       "    </tr>\n",
       "  </tbody>\n",
       "</table>\n",
       "<p>1459 rows × 63 columns</p>\n",
       "</div>"
      ],
      "text/plain": [
       "        Id  MSSubClass MSZoning  LotArea Street LotShape LandContour  \\\n",
       "0        1          60       RL     8450   Pave      Reg         Lvl   \n",
       "1        2          20       RL     9600   Pave      Reg         Lvl   \n",
       "2        3          60       RL    11250   Pave      IR1         Lvl   \n",
       "3        4          70       RL     9550   Pave      IR1         Lvl   \n",
       "4        5          60       RL    14260   Pave      IR1         Lvl   \n",
       "...    ...         ...      ...      ...    ...      ...         ...   \n",
       "1455  1456          60       RL     7917   Pave      Reg         Lvl   \n",
       "1456  1457          20       RL    13175   Pave      Reg         Lvl   \n",
       "1457  1458          70       RL     9042   Pave      Reg         Lvl   \n",
       "1458  1459          20       RL     9717   Pave      Reg         Lvl   \n",
       "1459  1460          20       RL     9937   Pave      Reg         Lvl   \n",
       "\n",
       "     Utilities LotConfig LandSlope  ... EnclosedPorch 3SsnPorch ScreenPorch  \\\n",
       "0       AllPub    Inside       Gtl  ...             0         0           0   \n",
       "1       AllPub       FR2       Gtl  ...             0         0           0   \n",
       "2       AllPub    Inside       Gtl  ...             0         0           0   \n",
       "3       AllPub    Corner       Gtl  ...           272         0           0   \n",
       "4       AllPub       FR2       Gtl  ...             0         0           0   \n",
       "...        ...       ...       ...  ...           ...       ...         ...   \n",
       "1455    AllPub    Inside       Gtl  ...             0         0           0   \n",
       "1456    AllPub    Inside       Gtl  ...             0         0           0   \n",
       "1457    AllPub    Inside       Gtl  ...             0         0           0   \n",
       "1458    AllPub    Inside       Gtl  ...           112         0           0   \n",
       "1459    AllPub    Inside       Gtl  ...             0         0           0   \n",
       "\n",
       "     PoolArea MiscVal  MoSold  YrSold  SaleType  SaleCondition SalePrice  \n",
       "0           0       0       2    2008        WD         Normal    208500  \n",
       "1           0       0       5    2007        WD         Normal    181500  \n",
       "2           0       0       9    2008        WD         Normal    223500  \n",
       "3           0       0       2    2006        WD        Abnorml    140000  \n",
       "4           0       0      12    2008        WD         Normal    250000  \n",
       "...       ...     ...     ...     ...       ...            ...       ...  \n",
       "1455        0       0       8    2007        WD         Normal    175000  \n",
       "1456        0       0       2    2010        WD         Normal    210000  \n",
       "1457        0    2500       5    2010        WD         Normal    266500  \n",
       "1458        0       0       4    2010        WD         Normal    142125  \n",
       "1459        0       0       6    2008        WD         Normal    147500  \n",
       "\n",
       "[1459 rows x 63 columns]"
      ]
     },
     "execution_count": 10,
     "metadata": {},
     "output_type": "execute_result"
    }
   ],
   "source": [
    "df_train"
   ]
  },
  {
   "cell_type": "markdown",
   "id": "4a9cdbe1",
   "metadata": {
    "papermill": {
     "duration": 0.021234,
     "end_time": "2023-08-23T13:07:16.346732",
     "exception": false,
     "start_time": "2023-08-23T13:07:16.325498",
     "status": "completed"
    },
    "tags": []
   },
   "source": [
    "## Outliers"
   ]
  },
  {
   "cell_type": "code",
   "execution_count": 11,
   "id": "62e82a8a",
   "metadata": {
    "execution": {
     "iopub.execute_input": "2023-08-23T13:07:16.393110Z",
     "iopub.status.busy": "2023-08-23T13:07:16.392675Z",
     "iopub.status.idle": "2023-08-23T13:07:20.834559Z",
     "shell.execute_reply": "2023-08-23T13:07:20.833516Z"
    },
    "papermill": {
     "duration": 4.468859,
     "end_time": "2023-08-23T13:07:20.837075",
     "exception": false,
     "start_time": "2023-08-23T13:07:16.368216",
     "status": "completed"
    },
    "tags": []
   },
   "outputs": [
    {
     "data": {
      "text/plain": [
       "Id                  AxesSubplot(0.125,0.847647;0.352273x0.0323529)\n",
       "MSSubClass       AxesSubplot(0.547727,0.847647;0.352273x0.0323529)\n",
       "LotArea             AxesSubplot(0.125,0.808824;0.352273x0.0323529)\n",
       "OverallQual      AxesSubplot(0.547727,0.808824;0.352273x0.0323529)\n",
       "OverallCond             AxesSubplot(0.125,0.77;0.352273x0.0323529)\n",
       "YearBuilt            AxesSubplot(0.547727,0.77;0.352273x0.0323529)\n",
       "YearRemodAdd        AxesSubplot(0.125,0.731176;0.352273x0.0323529)\n",
       "BsmtFinSF1       AxesSubplot(0.547727,0.731176;0.352273x0.0323529)\n",
       "BsmtFinSF2          AxesSubplot(0.125,0.692353;0.352273x0.0323529)\n",
       "BsmtUnfSF        AxesSubplot(0.547727,0.692353;0.352273x0.0323529)\n",
       "TotalBsmtSF         AxesSubplot(0.125,0.653529;0.352273x0.0323529)\n",
       "1stFlrSF         AxesSubplot(0.547727,0.653529;0.352273x0.0323529)\n",
       "2ndFlrSF            AxesSubplot(0.125,0.614706;0.352273x0.0323529)\n",
       "LowQualFinSF     AxesSubplot(0.547727,0.614706;0.352273x0.0323529)\n",
       "GrLivArea           AxesSubplot(0.125,0.575882;0.352273x0.0323529)\n",
       "BsmtFullBath     AxesSubplot(0.547727,0.575882;0.352273x0.0323529)\n",
       "BsmtHalfBath        AxesSubplot(0.125,0.537059;0.352273x0.0323529)\n",
       "FullBath         AxesSubplot(0.547727,0.537059;0.352273x0.0323529)\n",
       "HalfBath            AxesSubplot(0.125,0.498235;0.352273x0.0323529)\n",
       "BedroomAbvGr     AxesSubplot(0.547727,0.498235;0.352273x0.0323529)\n",
       "KitchenAbvGr        AxesSubplot(0.125,0.459412;0.352273x0.0323529)\n",
       "TotRmsAbvGrd     AxesSubplot(0.547727,0.459412;0.352273x0.0323529)\n",
       "Fireplaces          AxesSubplot(0.125,0.420588;0.352273x0.0323529)\n",
       "GarageCars       AxesSubplot(0.547727,0.420588;0.352273x0.0323529)\n",
       "GarageArea          AxesSubplot(0.125,0.381765;0.352273x0.0323529)\n",
       "WoodDeckSF       AxesSubplot(0.547727,0.381765;0.352273x0.0323529)\n",
       "OpenPorchSF         AxesSubplot(0.125,0.342941;0.352273x0.0323529)\n",
       "EnclosedPorch    AxesSubplot(0.547727,0.342941;0.352273x0.0323529)\n",
       "3SsnPorch           AxesSubplot(0.125,0.304118;0.352273x0.0323529)\n",
       "ScreenPorch      AxesSubplot(0.547727,0.304118;0.352273x0.0323529)\n",
       "PoolArea            AxesSubplot(0.125,0.265294;0.352273x0.0323529)\n",
       "MiscVal          AxesSubplot(0.547727,0.265294;0.352273x0.0323529)\n",
       "MoSold              AxesSubplot(0.125,0.226471;0.352273x0.0323529)\n",
       "YrSold           AxesSubplot(0.547727,0.226471;0.352273x0.0323529)\n",
       "SalePrice           AxesSubplot(0.125,0.187647;0.352273x0.0323529)\n",
       "dtype: object"
      ]
     },
     "execution_count": 11,
     "metadata": {},
     "output_type": "execute_result"
    },
    {
     "data": {
      "image/png": "[encoded data removed]",
      "text/plain": [
       "<Figure size 800x4000 with 40 Axes>"
      ]
     },
     "metadata": {},
     "output_type": "display_data"
    }
   ],
   "source": [
    "df_train.plot(kind = \"box\" , subplots = True , figsize = (8,40) , layout = (20,2))"
   ]
  },
  {
   "cell_type": "markdown",
   "id": "a44a0779",
   "metadata": {
    "papermill": {
     "duration": 0.024652,
     "end_time": "2023-08-23T13:07:20.889894",
     "exception": false,
     "start_time": "2023-08-23T13:07:20.865242",
     "status": "completed"
    },
    "tags": []
   },
   "source": [
    "#### - most outliers is good but in saleprice i will work it"
   ]
  },
  {
   "cell_type": "code",
   "execution_count": 12,
   "id": "4e1d1b99",
   "metadata": {
    "execution": {
     "iopub.execute_input": "2023-08-23T13:07:20.942363Z",
     "iopub.status.busy": "2023-08-23T13:07:20.941755Z",
     "iopub.status.idle": "2023-08-23T13:07:21.444792Z",
     "shell.execute_reply": "2023-08-23T13:07:21.443734Z"
    },
    "papermill": {
     "duration": 0.532547,
     "end_time": "2023-08-23T13:07:21.447267",
     "exception": false,
     "start_time": "2023-08-23T13:07:20.914720",
     "status": "completed"
    },
    "tags": []
   },
   "outputs": [
    {
     "data": {
      "image/png": "[encoded data removed]",
      "text/plain": [
       "<Figure size 1500x400 with 2 Axes>"
      ]
     },
     "metadata": {},
     "output_type": "display_data"
    }
   ],
   "source": [
    "plt.figure(figsize=(15,4))\n",
    "plt.subplot(1,2,1)\n",
    "plt.suptitle(\"Distribution of SalePrice\", fontsize=18)\n",
    "plt.title(\"Almost Normal Distribution\", fontsize=15)\n",
    "sns.kdeplot(data = df_train[\"SalePrice\"])\n",
    "plt.subplot(1,2,2)\n",
    "plt.title(\"Skewed Distribution\", fontsize=15)\n",
    "sns.boxplot(data = df_train[\"SalePrice\"], palette=\"magma\")\n",
    "plt.show()"
   ]
  },
  {
   "cell_type": "code",
   "execution_count": 13,
   "id": "651883df",
   "metadata": {
    "execution": {
     "iopub.execute_input": "2023-08-23T13:07:21.503212Z",
     "iopub.status.busy": "2023-08-23T13:07:21.502410Z",
     "iopub.status.idle": "2023-08-23T13:07:21.512543Z",
     "shell.execute_reply": "2023-08-23T13:07:21.511054Z"
    },
    "papermill": {
     "duration": 0.040702,
     "end_time": "2023-08-23T13:07:21.515129",
     "exception": false,
     "start_time": "2023-08-23T13:07:21.474427",
     "status": "completed"
    },
    "tags": []
   },
   "outputs": [
    {
     "name": "stdout",
     "output_type": "stream",
     "text": [
      "outliers: Id               9\n",
      "MSSubClass       9\n",
      "MSZoning         9\n",
      "LotArea          9\n",
      "Street           9\n",
      "                ..\n",
      "MoSold           9\n",
      "YrSold           9\n",
      "SaleType         9\n",
      "SaleCondition    9\n",
      "SalePrice        9\n",
      "Length: 63, dtype: int64\n"
     ]
    }
   ],
   "source": [
    "print(\"outliers:\" , df_train[(df_train['SalePrice'] >= 500000)].count())"
   ]
  },
  {
   "cell_type": "code",
   "execution_count": 14,
   "id": "7667dae7",
   "metadata": {
    "execution": {
     "iopub.execute_input": "2023-08-23T13:07:21.570292Z",
     "iopub.status.busy": "2023-08-23T13:07:21.569852Z",
     "iopub.status.idle": "2023-08-23T13:07:21.876920Z",
     "shell.execute_reply": "2023-08-23T13:07:21.875750Z"
    },
    "papermill": {
     "duration": 0.33724,
     "end_time": "2023-08-23T13:07:21.879578",
     "exception": false,
     "start_time": "2023-08-23T13:07:21.542338",
     "status": "completed"
    },
    "tags": []
   },
   "outputs": [
    {
     "data": {
      "text/plain": [
       "Text(0.5, 1.0, \"Scatter for SalePrice with GrLivArea'\")"
      ]
     },
     "execution_count": 14,
     "metadata": {},
     "output_type": "execute_result"
    },
    {
     "data": {
      "image/png": "[encoded data removed]",
      "text/plain": [
       "<Figure size 640x480 with 1 Axes>"
      ]
     },
     "metadata": {},
     "output_type": "display_data"
    }
   ],
   "source": [
    "plt.scatter(df_train['SalePrice'] , df_train['GrLivArea'])\n",
    "plt.xlabel(\"SalePrice\")\n",
    "plt.ylabel(\"GrLivArea'\")\n",
    "plt.title(\"Scatter for SalePrice with GrLivArea'\")"
   ]
  },
  {
   "cell_type": "code",
   "execution_count": 15,
   "id": "d02efdea",
   "metadata": {
    "execution": {
     "iopub.execute_input": "2023-08-23T13:07:21.935205Z",
     "iopub.status.busy": "2023-08-23T13:07:21.934225Z",
     "iopub.status.idle": "2023-08-23T13:07:22.265500Z",
     "shell.execute_reply": "2023-08-23T13:07:22.264294Z"
    },
    "papermill": {
     "duration": 0.361888,
     "end_time": "2023-08-23T13:07:22.268147",
     "exception": false,
     "start_time": "2023-08-23T13:07:21.906259",
     "status": "completed"
    },
    "tags": []
   },
   "outputs": [
    {
     "data": {
      "text/plain": [
       "Text(0.5, 1.0, \"Scatter for SalePrice with GrLivArea'\")"
      ]
     },
     "execution_count": 15,
     "metadata": {},
     "output_type": "execute_result"
    },
    {
     "data": {
      "image/png": "[encoded data removed]",
      "text/plain": [
       "<Figure size 640x480 with 1 Axes>"
      ]
     },
     "metadata": {},
     "output_type": "display_data"
    }
   ],
   "source": [
    "df_train= df_train[df_train['SalePrice'] < 500000]\n",
    "plt.scatter(df_train['SalePrice'] , df_train['GrLivArea'])\n",
    "plt.xlabel(\"SalePrice\")\n",
    "plt.ylabel(\"GrLivArea'\")\n",
    "plt.title(\"Scatter for SalePrice with GrLivArea'\")"
   ]
  },
  {
   "cell_type": "code",
   "execution_count": 16,
   "id": "975c520a",
   "metadata": {
    "execution": {
     "iopub.execute_input": "2023-08-23T13:07:22.326504Z",
     "iopub.status.busy": "2023-08-23T13:07:22.325735Z",
     "iopub.status.idle": "2023-08-23T13:07:23.292823Z",
     "shell.execute_reply": "2023-08-23T13:07:23.291468Z"
    },
    "papermill": {
     "duration": 1.000169,
     "end_time": "2023-08-23T13:07:23.296705",
     "exception": false,
     "start_time": "2023-08-23T13:07:22.296536",
     "status": "completed"
    },
    "tags": []
   },
   "outputs": [
    {
     "data": {
      "text/plain": [
       "<seaborn.axisgrid.JointGrid at 0x236f6e5cd90>"
      ]
     },
     "execution_count": 16,
     "metadata": {},
     "output_type": "execute_result"
    },
    {
     "data": {
      "image/png": "[encoded data removed]",
      "text/plain": [
       "<Figure size 600x600 with 3 Axes>"
      ]
     },
     "metadata": {},
     "output_type": "display_data"
    }
   ],
   "source": [
    "# Visualising the relation between SalePrice and GrLivArea\n",
    "sns.jointplot(x = df_train[\"SalePrice\"], y = df_train[\"GrLivArea\"], data = df_train, kind = \"hex\")"
   ]
  },
  {
   "cell_type": "code",
   "execution_count": 17,
   "id": "db9fe690",
   "metadata": {
    "execution": {
     "iopub.execute_input": "2023-08-23T13:07:23.357833Z",
     "iopub.status.busy": "2023-08-23T13:07:23.357438Z",
     "iopub.status.idle": "2023-08-23T13:07:23.685125Z",
     "shell.execute_reply": "2023-08-23T13:07:23.683756Z"
    },
    "papermill": {
     "duration": 0.360795,
     "end_time": "2023-08-23T13:07:23.687932",
     "exception": false,
     "start_time": "2023-08-23T13:07:23.327137",
     "status": "completed"
    },
    "tags": []
   },
   "outputs": [
    {
     "data": {
      "text/plain": [
       "<AxesSubplot:xlabel='SalePrice', ylabel='Density'>"
      ]
     },
     "execution_count": 17,
     "metadata": {},
     "output_type": "execute_result"
    },
    {
     "data": {
      "image/png": "[encoded data removed]",
      "text/plain": [
       "<Figure size 640x480 with 1 Axes>"
      ]
     },
     "metadata": {},
     "output_type": "display_data"
    }
   ],
   "source": [
    "sns.kdeplot(data=df_train,x='SalePrice',shade=True)"
   ]
  },
  {
   "cell_type": "code",
   "execution_count": 18,
   "id": "3901a7bf",
   "metadata": {
    "execution": {
     "iopub.execute_input": "2023-08-23T13:07:23.748792Z",
     "iopub.status.busy": "2023-08-23T13:07:23.748377Z",
     "iopub.status.idle": "2023-08-23T13:07:23.770968Z",
     "shell.execute_reply": "2023-08-23T13:07:23.769712Z"
    },
    "papermill": {
     "duration": 0.056328,
     "end_time": "2023-08-23T13:07:23.773643",
     "exception": false,
     "start_time": "2023-08-23T13:07:23.717315",
     "status": "completed"
    },
    "tags": []
   },
   "outputs": [
    {
     "data": {
      "text/html": [
       "<div>\n",
       "<style scoped>\n",
       "    .dataframe tbody tr th:only-of-type {\n",
       "        vertical-align: middle;\n",
       "    }\n",
       "\n",
       "    .dataframe tbody tr th {\n",
       "        vertical-align: top;\n",
       "    }\n",
       "\n",
       "    .dataframe thead th {\n",
       "        text-align: right;\n",
       "    }\n",
       "</style>\n",
       "<table border=\"1\" class=\"dataframe\">\n",
       "  <thead>\n",
       "    <tr style=\"text-align: right;\">\n",
       "      <th></th>\n",
       "      <th>SalePrice</th>\n",
       "      <th>GrLivArea</th>\n",
       "    </tr>\n",
       "  </thead>\n",
       "  <tbody>\n",
       "    <tr>\n",
       "      <th>count</th>\n",
       "      <td>1450.000000</td>\n",
       "      <td>1450.000000</td>\n",
       "    </tr>\n",
       "    <tr>\n",
       "      <th>mean</th>\n",
       "      <td>178280.302069</td>\n",
       "      <td>1505.375862</td>\n",
       "    </tr>\n",
       "    <tr>\n",
       "      <th>std</th>\n",
       "      <td>71915.365091</td>\n",
       "      <td>507.348180</td>\n",
       "    </tr>\n",
       "    <tr>\n",
       "      <th>min</th>\n",
       "      <td>34900.000000</td>\n",
       "      <td>334.000000</td>\n",
       "    </tr>\n",
       "    <tr>\n",
       "      <th>25%</th>\n",
       "      <td>129900.000000</td>\n",
       "      <td>1128.000000</td>\n",
       "    </tr>\n",
       "    <tr>\n",
       "      <th>50%</th>\n",
       "      <td>162250.000000</td>\n",
       "      <td>1457.000000</td>\n",
       "    </tr>\n",
       "    <tr>\n",
       "      <th>75%</th>\n",
       "      <td>213000.000000</td>\n",
       "      <td>1770.250000</td>\n",
       "    </tr>\n",
       "    <tr>\n",
       "      <th>max</th>\n",
       "      <td>485000.000000</td>\n",
       "      <td>5642.000000</td>\n",
       "    </tr>\n",
       "  </tbody>\n",
       "</table>\n",
       "</div>"
      ],
      "text/plain": [
       "           SalePrice    GrLivArea\n",
       "count    1450.000000  1450.000000\n",
       "mean   178280.302069  1505.375862\n",
       "std     71915.365091   507.348180\n",
       "min     34900.000000   334.000000\n",
       "25%    129900.000000  1128.000000\n",
       "50%    162250.000000  1457.000000\n",
       "75%    213000.000000  1770.250000\n",
       "max    485000.000000  5642.000000"
      ]
     },
     "execution_count": 18,
     "metadata": {},
     "output_type": "execute_result"
    }
   ],
   "source": [
    "df_train[['SalePrice','GrLivArea']].describe()"
   ]
  },
  {
   "cell_type": "markdown",
   "id": "2e64493a",
   "metadata": {
    "execution": {
     "iopub.execute_input": "2023-08-23T11:20:38.918651Z",
     "iopub.status.busy": "2023-08-23T11:20:38.918279Z",
     "iopub.status.idle": "2023-08-23T11:20:38.923359Z",
     "shell.execute_reply": "2023-08-23T11:20:38.922038Z",
     "shell.execute_reply.started": "2023-08-23T11:20:38.918623Z"
    },
    "papermill": {
     "duration": 0.029619,
     "end_time": "2023-08-23T13:07:23.832736",
     "exception": false,
     "start_time": "2023-08-23T13:07:23.803117",
     "status": "completed"
    },
    "tags": []
   },
   "source": [
    "# Splitting data"
   ]
  },
  {
   "cell_type": "code",
   "execution_count": 19,
   "id": "b792b427",
   "metadata": {
    "execution": {
     "iopub.execute_input": "2023-08-23T13:07:23.893734Z",
     "iopub.status.busy": "2023-08-23T13:07:23.892677Z",
     "iopub.status.idle": "2023-08-23T13:07:23.900313Z",
     "shell.execute_reply": "2023-08-23T13:07:23.899450Z"
    },
    "papermill": {
     "duration": 0.040644,
     "end_time": "2023-08-23T13:07:23.902666",
     "exception": false,
     "start_time": "2023-08-23T13:07:23.862022",
     "status": "completed"
    },
    "tags": []
   },
   "outputs": [],
   "source": [
    "df=df_train[['SalePrice','GrLivArea']]\n",
    "Y=df_train['SalePrice']\n",
    "X=df_train['GrLivArea']"
   ]
  },
  {
   "cell_type": "code",
   "execution_count": 20,
   "id": "87fa732e",
   "metadata": {
    "execution": {
     "iopub.execute_input": "2023-08-23T13:07:23.963905Z",
     "iopub.status.busy": "2023-08-23T13:07:23.963196Z",
     "iopub.status.idle": "2023-08-23T13:07:24.482415Z",
     "shell.execute_reply": "2023-08-23T13:07:24.481471Z"
    },
    "papermill": {
     "duration": 0.552447,
     "end_time": "2023-08-23T13:07:24.484754",
     "exception": false,
     "start_time": "2023-08-23T13:07:23.932307",
     "status": "completed"
    },
    "tags": []
   },
   "outputs": [
    {
     "data": {
      "text/plain": [
       "<AxesSubplot:xlabel='GrLivArea', ylabel='SalePrice'>"
      ]
     },
     "execution_count": 20,
     "metadata": {},
     "output_type": "execute_result"
    },
    {
     "data": {
      "image/png": "[encoded data removed]",
      "text/plain": [
       "<Figure size 640x480 with 1 Axes>"
      ]
     },
     "metadata": {},
     "output_type": "display_data"
    }
   ],
   "source": [
    "sns.regplot(data=df,x=X,y=Y)"
   ]
  },
  {
   "cell_type": "markdown",
   "id": "6aadbf95",
   "metadata": {
    "papermill": {
     "duration": 0.0306,
     "end_time": "2023-08-23T13:07:24.546422",
     "exception": false,
     "start_time": "2023-08-23T13:07:24.515822",
     "status": "completed"
    },
    "tags": []
   },
   "source": [
    "# Model & Training"
   ]
  },
  {
   "cell_type": "markdown",
   "id": "b188a9bc",
   "metadata": {
    "papermill": {
     "duration": 0.0305,
     "end_time": "2023-08-23T13:07:24.607219",
     "exception": false,
     "start_time": "2023-08-23T13:07:24.576719",
     "status": "completed"
    },
    "tags": []
   },
   "source": [
    "## 1) Using statsmodels (statistical approach)"
   ]
  },
  {
   "cell_type": "code",
   "execution_count": 21,
   "id": "e72bca25",
   "metadata": {
    "execution": {
     "iopub.execute_input": "2023-08-23T13:07:24.670784Z",
     "iopub.status.busy": "2023-08-23T13:07:24.670066Z",
     "iopub.status.idle": "2023-08-23T13:07:26.646882Z",
     "shell.execute_reply": "2023-08-23T13:07:26.645548Z"
    },
    "papermill": {
     "duration": 2.011931,
     "end_time": "2023-08-23T13:07:26.649826",
     "exception": false,
     "start_time": "2023-08-23T13:07:24.637895",
     "status": "completed"
    },
    "tags": []
   },
   "outputs": [],
   "source": [
    "import statsmodels.api as sm"
   ]
  },
  {
   "cell_type": "code",
   "execution_count": 22,
   "id": "ec8ceb19",
   "metadata": {
    "execution": {
     "iopub.execute_input": "2023-08-23T13:07:26.713995Z",
     "iopub.status.busy": "2023-08-23T13:07:26.713575Z",
     "iopub.status.idle": "2023-08-23T13:07:26.721416Z",
     "shell.execute_reply": "2023-08-23T13:07:26.720129Z"
    },
    "papermill": {
     "duration": 0.042606,
     "end_time": "2023-08-23T13:07:26.724081",
     "exception": false,
     "start_time": "2023-08-23T13:07:26.681475",
     "status": "completed"
    },
    "tags": []
   },
   "outputs": [],
   "source": [
    "x_stat=sm.add_constant(X)"
   ]
  },
  {
   "cell_type": "code",
   "execution_count": 23,
   "id": "3a7880bf",
   "metadata": {
    "execution": {
     "iopub.execute_input": "2023-08-23T13:07:26.787676Z",
     "iopub.status.busy": "2023-08-23T13:07:26.786974Z",
     "iopub.status.idle": "2023-08-23T13:07:26.792531Z",
     "shell.execute_reply": "2023-08-23T13:07:26.791742Z"
    },
    "papermill": {
     "duration": 0.039816,
     "end_time": "2023-08-23T13:07:26.794684",
     "exception": false,
     "start_time": "2023-08-23T13:07:26.754868",
     "status": "completed"
    },
    "tags": []
   },
   "outputs": [],
   "source": [
    "reg_sta=sm.OLS(Y,x_stat).fit()"
   ]
  },
  {
   "cell_type": "code",
   "execution_count": 24,
   "id": "d773f189",
   "metadata": {
    "execution": {
     "iopub.execute_input": "2023-08-23T13:07:26.858020Z",
     "iopub.status.busy": "2023-08-23T13:07:26.857358Z",
     "iopub.status.idle": "2023-08-23T13:07:26.865523Z",
     "shell.execute_reply": "2023-08-23T13:07:26.864527Z"
    },
    "papermill": {
     "duration": 0.042551,
     "end_time": "2023-08-23T13:07:26.867728",
     "exception": false,
     "start_time": "2023-08-23T13:07:26.825177",
     "status": "completed"
    },
    "tags": []
   },
   "outputs": [
    {
     "data": {
      "text/plain": [
       "const        31714.506671\n",
       "GrLivArea       97.361595\n",
       "dtype: float64"
      ]
     },
     "execution_count": 24,
     "metadata": {},
     "output_type": "execute_result"
    }
   ],
   "source": [
    "reg_sta.params\n",
    "# y=mx+b\n",
    "# price = (97.361595*area) + 31714.506671\n",
    "# b=B0  -> m=B1"
   ]
  },
  {
   "cell_type": "markdown",
   "id": "f0f7598a",
   "metadata": {
    "papermill": {
     "duration": 0.030217,
     "end_time": "2023-08-23T13:07:26.928386",
     "exception": false,
     "start_time": "2023-08-23T13:07:26.898169",
     "status": "completed"
    },
    "tags": []
   },
   "source": [
    "## 2) using Scilit-Learn (MLA)"
   ]
  },
  {
   "cell_type": "code",
   "execution_count": 25,
   "id": "03539298",
   "metadata": {
    "execution": {
     "iopub.execute_input": "2023-08-23T13:07:26.992387Z",
     "iopub.status.busy": "2023-08-23T13:07:26.991795Z",
     "iopub.status.idle": "2023-08-23T13:07:27.375145Z",
     "shell.execute_reply": "2023-08-23T13:07:27.374018Z"
    },
    "papermill": {
     "duration": 0.419137,
     "end_time": "2023-08-23T13:07:27.378191",
     "exception": false,
     "start_time": "2023-08-23T13:07:26.959054",
     "status": "completed"
    },
    "tags": []
   },
   "outputs": [],
   "source": [
    "from sklearn.linear_model import LinearRegression"
   ]
  },
  {
   "cell_type": "code",
   "execution_count": 26,
   "id": "9e130d47",
   "metadata": {
    "execution": {
     "iopub.execute_input": "2023-08-23T13:07:27.443552Z",
     "iopub.status.busy": "2023-08-23T13:07:27.443160Z",
     "iopub.status.idle": "2023-08-23T13:07:27.448102Z",
     "shell.execute_reply": "2023-08-23T13:07:27.447159Z"
    },
    "papermill": {
     "duration": 0.040635,
     "end_time": "2023-08-23T13:07:27.450314",
     "exception": false,
     "start_time": "2023-08-23T13:07:27.409679",
     "status": "completed"
    },
    "tags": []
   },
   "outputs": [],
   "source": [
    "X_ml=X.values.reshape(-1,1)"
   ]
  },
  {
   "cell_type": "code",
   "execution_count": 27,
   "id": "767ba400",
   "metadata": {
    "execution": {
     "iopub.execute_input": "2023-08-23T13:07:27.514867Z",
     "iopub.status.busy": "2023-08-23T13:07:27.513858Z",
     "iopub.status.idle": "2023-08-23T13:07:27.535385Z",
     "shell.execute_reply": "2023-08-23T13:07:27.534316Z"
    },
    "papermill": {
     "duration": 0.056439,
     "end_time": "2023-08-23T13:07:27.538121",
     "exception": false,
     "start_time": "2023-08-23T13:07:27.481682",
     "status": "completed"
    },
    "tags": []
   },
   "outputs": [],
   "source": [
    "reg_ml=LinearRegression().fit(X_ml,Y)"
   ]
  },
  {
   "cell_type": "code",
   "execution_count": 28,
   "id": "41caea18",
   "metadata": {
    "execution": {
     "iopub.execute_input": "2023-08-23T13:07:27.603492Z",
     "iopub.status.busy": "2023-08-23T13:07:27.602786Z",
     "iopub.status.idle": "2023-08-23T13:07:27.610129Z",
     "shell.execute_reply": "2023-08-23T13:07:27.608944Z"
    },
    "papermill": {
     "duration": 0.042496,
     "end_time": "2023-08-23T13:07:27.612637",
     "exception": false,
     "start_time": "2023-08-23T13:07:27.570141",
     "status": "completed"
    },
    "tags": []
   },
   "outputs": [
    {
     "data": {
      "text/plain": [
       "31714.50667103863"
      ]
     },
     "execution_count": 28,
     "metadata": {},
     "output_type": "execute_result"
    }
   ],
   "source": [
    "reg_ml.intercept_"
   ]
  },
  {
   "cell_type": "markdown",
   "id": "aef25f79",
   "metadata": {
    "papermill": {
     "duration": 0.031355,
     "end_time": "2023-08-23T13:07:27.675072",
     "exception": false,
     "start_time": "2023-08-23T13:07:27.643717",
     "status": "completed"
    },
    "tags": []
   },
   "source": [
    "# Model Prediction & Evaluation"
   ]
  },
  {
   "cell_type": "markdown",
   "id": "2060ea4f",
   "metadata": {
    "papermill": {
     "duration": 0.030626,
     "end_time": "2023-08-23T13:07:27.737587",
     "exception": false,
     "start_time": "2023-08-23T13:07:27.706961",
     "status": "completed"
    },
    "tags": []
   },
   "source": [
    "## 1) using Statsmodel(Statistical Approach)"
   ]
  },
  {
   "cell_type": "markdown",
   "id": "11c98d48",
   "metadata": {
    "papermill": {
     "duration": 0.030354,
     "end_time": "2023-08-23T13:07:27.798938",
     "exception": false,
     "start_time": "2023-08-23T13:07:27.768584",
     "status": "completed"
    },
    "tags": []
   },
   "source": [
    "### Evaluation Results"
   ]
  },
  {
   "cell_type": "code",
   "execution_count": 29,
   "id": "90a93a43",
   "metadata": {
    "execution": {
     "iopub.execute_input": "2023-08-23T13:07:27.863202Z",
     "iopub.status.busy": "2023-08-23T13:07:27.861919Z",
     "iopub.status.idle": "2023-08-23T13:07:27.893891Z",
     "shell.execute_reply": "2023-08-23T13:07:27.892601Z"
    },
    "papermill": {
     "duration": 0.066733,
     "end_time": "2023-08-23T13:07:27.896471",
     "exception": false,
     "start_time": "2023-08-23T13:07:27.829738",
     "status": "completed"
    },
    "tags": []
   },
   "outputs": [
    {
     "data": {
      "text/html": [
       "<table class=\"simpletable\">\n",
       "<caption>OLS Regression Results</caption>\n",
       "<tr>\n",
       "  <th>Dep. Variable:</th>        <td>SalePrice</td>    <th>  R-squared:         </th> <td>   0.472</td> \n",
       "</tr>\n",
       "<tr>\n",
       "  <th>Model:</th>                   <td>OLS</td>       <th>  Adj. R-squared:    </th> <td>   0.471</td> \n",
       "</tr>\n",
       "<tr>\n",
       "  <th>Method:</th>             <td>Least Squares</td>  <th>  F-statistic:       </th> <td>   1293.</td> \n",
       "</tr>\n",
       "<tr>\n",
       "  <th>Date:</th>             <td>Thu, 24 Aug 2023</td> <th>  Prob (F-statistic):</th> <td>6.30e-203</td>\n",
       "</tr>\n",
       "<tr>\n",
       "  <th>Time:</th>                 <td>02:20:11</td>     <th>  Log-Likelihood:    </th> <td> -17810.</td> \n",
       "</tr>\n",
       "<tr>\n",
       "  <th>No. Observations:</th>      <td>  1450</td>      <th>  AIC:               </th> <td>3.562e+04</td>\n",
       "</tr>\n",
       "<tr>\n",
       "  <th>Df Residuals:</th>          <td>  1448</td>      <th>  BIC:               </th> <td>3.563e+04</td>\n",
       "</tr>\n",
       "<tr>\n",
       "  <th>Df Model:</th>              <td>     1</td>      <th>                     </th>     <td> </td>    \n",
       "</tr>\n",
       "<tr>\n",
       "  <th>Covariance Type:</th>      <td>nonrobust</td>    <th>                     </th>     <td> </td>    \n",
       "</tr>\n",
       "</table>\n",
       "<table class=\"simpletable\">\n",
       "<tr>\n",
       "      <td></td>         <th>coef</th>     <th>std err</th>      <th>t</th>      <th>P>|t|</th>  <th>[0.025</th>    <th>0.975]</th>  \n",
       "</tr>\n",
       "<tr>\n",
       "  <th>const</th>     <td> 3.171e+04</td> <td> 4300.590</td> <td>    7.374</td> <td> 0.000</td> <td> 2.33e+04</td> <td> 4.02e+04</td>\n",
       "</tr>\n",
       "<tr>\n",
       "  <th>GrLivArea</th> <td>   97.3616</td> <td>    2.707</td> <td>   35.963</td> <td> 0.000</td> <td>   92.051</td> <td>  102.672</td>\n",
       "</tr>\n",
       "</table>\n",
       "<table class=\"simpletable\">\n",
       "<tr>\n",
       "  <th>Omnibus:</th>       <td>185.790</td> <th>  Durbin-Watson:     </th> <td>   2.016</td>\n",
       "</tr>\n",
       "<tr>\n",
       "  <th>Prob(Omnibus):</th> <td> 0.000</td>  <th>  Jarque-Bera (JB):  </th> <td>1777.923</td>\n",
       "</tr>\n",
       "<tr>\n",
       "  <th>Skew:</th>          <td> 0.191</td>  <th>  Prob(JB):          </th> <td>    0.00</td>\n",
       "</tr>\n",
       "<tr>\n",
       "  <th>Kurtosis:</th>      <td> 8.411</td>  <th>  Cond. No.          </th> <td>4.98e+03</td>\n",
       "</tr>\n",
       "</table><br/><br/>Notes:<br/>[1] Standard Errors assume that the covariance matrix of the errors is correctly specified.<br/>[2] The condition number is large, 4.98e+03. This might indicate that there are<br/>strong multicollinearity or other numerical problems."
      ],
      "text/plain": [
       "<class 'statsmodels.iolib.summary.Summary'>\n",
       "\"\"\"\n",
       "                            OLS Regression Results                            \n",
       "==============================================================================\n",
       "Dep. Variable:              SalePrice   R-squared:                       0.472\n",
       "Model:                            OLS   Adj. R-squared:                  0.471\n",
       "Method:                 Least Squares   F-statistic:                     1293.\n",
       "Date:                Thu, 24 Aug 2023   Prob (F-statistic):          6.30e-203\n",
       "Time:                        02:20:11   Log-Likelihood:                -17810.\n",
       "No. Observations:                1450   AIC:                         3.562e+04\n",
       "Df Residuals:                    1448   BIC:                         3.563e+04\n",
       "Df Model:                           1                                         \n",
       "Covariance Type:            nonrobust                                         \n",
       "==============================================================================\n",
       "                 coef    std err          t      P>|t|      [0.025      0.975]\n",
       "------------------------------------------------------------------------------\n",
       "const       3.171e+04   4300.590      7.374      0.000    2.33e+04    4.02e+04\n",
       "GrLivArea     97.3616      2.707     35.963      0.000      92.051     102.672\n",
       "==============================================================================\n",
       "Omnibus:                      185.790   Durbin-Watson:                   2.016\n",
       "Prob(Omnibus):                  0.000   Jarque-Bera (JB):             1777.923\n",
       "Skew:                           0.191   Prob(JB):                         0.00\n",
       "Kurtosis:                       8.411   Cond. No.                     4.98e+03\n",
       "==============================================================================\n",
       "\n",
       "Notes:\n",
       "[1] Standard Errors assume that the covariance matrix of the errors is correctly specified.\n",
       "[2] The condition number is large, 4.98e+03. This might indicate that there are\n",
       "strong multicollinearity or other numerical problems.\n",
       "\"\"\""
      ]
     },
     "execution_count": 29,
     "metadata": {},
     "output_type": "execute_result"
    }
   ],
   "source": [
    "reg_sta.summary()"
   ]
  },
  {
   "cell_type": "markdown",
   "id": "6723c9d8",
   "metadata": {
    "papermill": {
     "duration": 0.031057,
     "end_time": "2023-08-23T13:07:27.960032",
     "exception": false,
     "start_time": "2023-08-23T13:07:27.928975",
     "status": "completed"
    },
    "tags": []
   },
   "source": [
    "### Now this model is significant"
   ]
  },
  {
   "cell_type": "markdown",
   "id": "ae66dc40",
   "metadata": {
    "papermill": {
     "duration": 0.033929,
     "end_time": "2023-08-23T13:07:28.025338",
     "exception": false,
     "start_time": "2023-08-23T13:07:27.991409",
     "status": "completed"
    },
    "tags": []
   },
   "source": [
    "#### To know what is significant"
   ]
  },
  {
   "cell_type": "code",
   "execution_count": 30,
   "id": "9313d185",
   "metadata": {
    "execution": {
     "iopub.execute_input": "2023-08-23T13:07:28.090093Z",
     "iopub.status.busy": "2023-08-23T13:07:28.089289Z",
     "iopub.status.idle": "2023-08-23T13:07:28.354840Z",
     "shell.execute_reply": "2023-08-23T13:07:28.353557Z"
    },
    "papermill": {
     "duration": 0.301124,
     "end_time": "2023-08-23T13:07:28.357659",
     "exception": false,
     "start_time": "2023-08-23T13:07:28.056535",
     "status": "completed"
    },
    "tags": []
   },
   "outputs": [
    {
     "data": {
      "image/png": "[encoded data removed]",
      "text/plain": [
       "<Figure size 640x480 with 1 Axes>"
      ]
     },
     "metadata": {},
     "output_type": "display_data"
    }
   ],
   "source": [
    "plt.scatter(X,Y)\n",
    "y_hat=97.361595*x_stat+31714.50667103863\n",
    "fig=plt.plot(x_stat,y_hat,c='r')\n",
    "plt.xlabel('Area')\n",
    "plt.ylabel('price')\n",
    "plt.show()"
   ]
  },
  {
   "cell_type": "markdown",
   "id": "66d656b9",
   "metadata": {
    "papermill": {
     "duration": 0.033387,
     "end_time": "2023-08-23T13:07:28.423795",
     "exception": false,
     "start_time": "2023-08-23T13:07:28.390408",
     "status": "completed"
    },
    "tags": []
   },
   "source": [
    "## 2) Using Scikit-Learn(MLA)"
   ]
  },
  {
   "cell_type": "code",
   "execution_count": 31,
   "id": "03c78ae3",
   "metadata": {
    "execution": {
     "iopub.execute_input": "2023-08-23T13:07:28.491451Z",
     "iopub.status.busy": "2023-08-23T13:07:28.490597Z",
     "iopub.status.idle": "2023-08-23T13:07:28.498177Z",
     "shell.execute_reply": "2023-08-23T13:07:28.497107Z"
    },
    "papermill": {
     "duration": 0.043943,
     "end_time": "2023-08-23T13:07:28.500615",
     "exception": false,
     "start_time": "2023-08-23T13:07:28.456672",
     "status": "completed"
    },
    "tags": []
   },
   "outputs": [
    {
     "data": {
      "text/plain": [
       "array([129076.1019317])"
      ]
     },
     "execution_count": 31,
     "metadata": {},
     "output_type": "execute_result"
    }
   ],
   "source": [
    "reg_ml.predict([[1000]])"
   ]
  },
  {
   "cell_type": "markdown",
   "id": "da5e9816",
   "metadata": {
    "papermill": {
     "duration": 0.03191,
     "end_time": "2023-08-23T13:07:28.564964",
     "exception": false,
     "start_time": "2023-08-23T13:07:28.533054",
     "status": "completed"
    },
    "tags": []
   },
   "source": [
    "### Method"
   ]
  },
  {
   "cell_type": "markdown",
   "id": "b7701f8b",
   "metadata": {
    "papermill": {
     "duration": 0.03211,
     "end_time": "2023-08-23T13:07:28.629336",
     "exception": false,
     "start_time": "2023-08-23T13:07:28.597226",
     "status": "completed"
    },
    "tags": []
   },
   "source": [
    "### spliting data"
   ]
  },
  {
   "cell_type": "code",
   "execution_count": 32,
   "id": "651d7ee7",
   "metadata": {
    "execution": {
     "iopub.execute_input": "2023-08-23T13:07:28.696574Z",
     "iopub.status.busy": "2023-08-23T13:07:28.695707Z",
     "iopub.status.idle": "2023-08-23T13:07:28.700552Z",
     "shell.execute_reply": "2023-08-23T13:07:28.699526Z"
    },
    "papermill": {
     "duration": 0.041158,
     "end_time": "2023-08-23T13:07:28.702716",
     "exception": false,
     "start_time": "2023-08-23T13:07:28.661558",
     "status": "completed"
    },
    "tags": []
   },
   "outputs": [],
   "source": [
    "from sklearn.linear_model import LinearRegression\n",
    "from sklearn.model_selection import train_test_split"
   ]
  },
  {
   "cell_type": "code",
   "execution_count": 33,
   "id": "f64a4500",
   "metadata": {
    "execution": {
     "iopub.execute_input": "2023-08-23T13:07:28.769892Z",
     "iopub.status.busy": "2023-08-23T13:07:28.769166Z",
     "iopub.status.idle": "2023-08-23T13:07:28.775176Z",
     "shell.execute_reply": "2023-08-23T13:07:28.774254Z"
    },
    "papermill": {
     "duration": 0.042,
     "end_time": "2023-08-23T13:07:28.777491",
     "exception": false,
     "start_time": "2023-08-23T13:07:28.735491",
     "status": "completed"
    },
    "tags": []
   },
   "outputs": [],
   "source": [
    "x_train,x_test,y_train,y_test= train_test_split(X,Y,test_size=0.33,random_state=42)"
   ]
  },
  {
   "cell_type": "code",
   "execution_count": 34,
   "id": "e1656c85",
   "metadata": {
    "execution": {
     "iopub.execute_input": "2023-08-23T13:07:28.844664Z",
     "iopub.status.busy": "2023-08-23T13:07:28.843898Z",
     "iopub.status.idle": "2023-08-23T13:07:28.848496Z",
     "shell.execute_reply": "2023-08-23T13:07:28.847405Z"
    },
    "papermill": {
     "duration": 0.041224,
     "end_time": "2023-08-23T13:07:28.850706",
     "exception": false,
     "start_time": "2023-08-23T13:07:28.809482",
     "status": "completed"
    },
    "tags": []
   },
   "outputs": [],
   "source": [
    "reg=LinearRegression()"
   ]
  },
  {
   "cell_type": "code",
   "execution_count": 35,
   "id": "1d2a4d3f",
   "metadata": {
    "execution": {
     "iopub.execute_input": "2023-08-23T13:07:28.919298Z",
     "iopub.status.busy": "2023-08-23T13:07:28.918564Z",
     "iopub.status.idle": "2023-08-23T13:07:28.933426Z",
     "shell.execute_reply": "2023-08-23T13:07:28.932163Z"
    },
    "papermill": {
     "duration": 0.050769,
     "end_time": "2023-08-23T13:07:28.935699",
     "exception": false,
     "start_time": "2023-08-23T13:07:28.884930",
     "status": "completed"
    },
    "tags": []
   },
   "outputs": [
    {
     "data": {
      "text/plain": [
       "LinearRegression()"
      ]
     },
     "execution_count": 35,
     "metadata": {},
     "output_type": "execute_result"
    }
   ],
   "source": [
    "reg.fit(x_train.values.reshape(-1,1),y_train)"
   ]
  },
  {
   "cell_type": "code",
   "execution_count": 36,
   "id": "5a9073c9",
   "metadata": {
    "execution": {
     "iopub.execute_input": "2023-08-23T13:07:29.004639Z",
     "iopub.status.busy": "2023-08-23T13:07:29.003718Z",
     "iopub.status.idle": "2023-08-23T13:07:29.018136Z",
     "shell.execute_reply": "2023-08-23T13:07:29.017068Z"
    },
    "papermill": {
     "duration": 0.051756,
     "end_time": "2023-08-23T13:07:29.020551",
     "exception": false,
     "start_time": "2023-08-23T13:07:28.968795",
     "status": "completed"
    },
    "tags": []
   },
   "outputs": [
    {
     "data": {
      "text/plain": [
       "array([213203.24197521, 166633.73833195, 122227.86207035, 180954.89100101,\n",
       "       202488.13494225, 179306.41299594, 214439.60047901, 103476.42476267,\n",
       "       178585.20386872, 107906.7094013 , 112852.14341651, 226597.12576641,\n",
       "       177760.96486618, 209288.10671316, 201045.71668781, 208979.01708721,\n",
       "       122124.83219503, 159215.58730913, 195688.16317133, 200839.65693718,\n",
       "       174051.88935477, 278627.21280146, 124906.63882859, 175185.21798326,\n",
       "       152621.67528885, 164264.05119966, 171064.02297058, 181057.92087632,\n",
       "       133252.05872926, 144997.4645154 , 169724.63459146, 269045.43439699,\n",
       "       185179.115889  , 113676.38241905, 181367.01050227, 154476.21304455,\n",
       "       159215.58730913, 123979.36995074, 188166.98227319, 176215.51673643,\n",
       "       113058.20316714, 173845.82960414, 204136.61294732, 208257.80795999,\n",
       "       195688.16317133, 142112.62800652, 183324.5781333 , 179306.41299594,\n",
       "       147367.15164768, 208463.86771063, 272960.56965903, 117282.42805514,\n",
       "       202488.13494225, 225669.85688856, 242360.6966899 ,  77409.86630748,\n",
       "       125627.84795581, 207124.47933151, 190330.60965485, 162924.66282054,\n",
       "       257712.14811212, 206815.38970556, 165500.40970347, 121918.7724444 ,\n",
       "       120991.50356655, 125524.81808049, 169518.57484083, 164779.20057625,\n",
       "       169209.48521488, 187445.77314597, 168076.15658639, 172197.35159907,\n",
       "       242154.63693927, 197748.76067767, 167251.91758385, 256887.90910959,\n",
       "       142318.68775715, 104197.63388989, 120270.29443933, 199912.38805932,\n",
       "       115943.03967602, 605128.88768084, 178791.26361935, 293154.42522115,\n",
       "       212997.18222457, 140361.12012613,  88743.15259235, 121918.7724444 ,\n",
       "       186003.35489154, 170960.99309526, 184148.81713583, 140876.26950272,\n",
       "       205991.15070302, 176730.66611301, 129852.07284381, 187651.83289661,\n",
       "       173536.73997819, 148706.5400268 , 192700.29678714, 228966.8128987 ,\n",
       "       252869.74397223, 111821.84466334, 152621.67528885, 162306.48356864,\n",
       "       138300.52261979, 143658.07613627, 165191.32007751, 235766.78466962,\n",
       "       104609.75339116,  88743.15259235, 115943.03967602, 238857.68092913,\n",
       "       206300.24032897, 395566.12128619, 194039.68516626, 141700.50850525,\n",
       "        73288.67129481, 228760.75314807, 200324.50756059, 122536.9516963 ,\n",
       "       185488.20551495, 294802.90322622, 282954.46756477, 270281.79290079,\n",
       "       264615.14975836, 130985.40147229, 165809.49932942, 125627.84795581,\n",
       "       169312.51509019, 250500.05683994, 149839.86865529, 128409.65458937,\n",
       "       190742.72915612, 133973.26785648, 120476.35418996, 148706.5400268 ,\n",
       "       110894.57578549, 136652.04461472, 111203.66541144, 202282.07519161,\n",
       "       216706.25773598, 119446.05543679, 263790.91075582, 279554.48167932,\n",
       "       198160.88017893, 130985.40147229, 141700.50850525, 202488.13494225,\n",
       "       162718.60306991, 156124.69104962, 116767.27867855, 259772.74561846,\n",
       "       130985.40147229, 188888.19140041, 147058.06202173, 246172.80207663,\n",
       "       150973.19728378, 204136.61294732, 119033.93593553, 209597.19633912,\n",
       "       230615.29090377, 176730.66611301, 117797.57743172, 193421.50591436,\n",
       "       101312.79738101, 115943.03967602, 168694.33583829, 114706.68117222,\n",
       "       134900.53673434, 102961.27538608, 147264.12177237, 111203.66541144,\n",
       "       152415.61553821, 234633.45604113, 125524.81808049, 203415.4038201 ,\n",
       "       265439.3887609 , 180233.68187379, 151797.43628631, 110173.36665827,\n",
       "       200015.41793464, 179409.44287125, 242978.8759418 , 257403.05848617,\n",
       "       216706.25773598, 193215.44616372, 111203.66541144, 175288.24785857,\n",
       "       131397.52097356, 112852.14341651, 192288.17728587, 186209.41464217,\n",
       "       159524.67693508, 203003.28431883, 149942.89853061, 153239.85454075,\n",
       "       136342.95498877, 109555.18740637, 250087.93733867, 124803.60895328,\n",
       "       173845.82960414, 176730.66611301, 184560.9366371 , 151179.25703441,\n",
       "       149942.89853061, 176112.48686111, 231233.47015567, 150045.92840593,\n",
       "       147470.181523  , 136342.95498877, 213409.30172584, 115736.97992538,\n",
       "       136136.89523814, 191360.90840802, 221548.66187588, 241948.57718863,\n",
       "       210524.46521697, 231954.67928289, 194245.74491689, 210421.43534165,\n",
       "       208051.74820936, 167251.91758385, 208463.86771063, 112852.14341651,\n",
       "       118415.75668363, 197336.6411764 , 147470.181523  , 243494.02531839,\n",
       "       230100.14152719, 133870.23798117, 166221.61883068, 154476.21304455,\n",
       "       176730.66611301, 136342.95498877, 227421.36476895, 194451.80466753,\n",
       "       126761.1765843 , 198366.93992957, 327257.31395106, 159833.76656103,\n",
       "       232778.91828543, 221857.75150183, 284602.94556985, 133045.99897863,\n",
       "       105124.90276774, 139227.79149765, 112440.02391524, 175391.27773389,\n",
       "       167354.94745917, 180439.74162442, 118930.90606021, 194554.83454284,\n",
       "       193524.53578967, 383717.68562474, 126761.1765843 , 126452.08695835,\n",
       "       122743.01144694, 196409.37229855, 196821.49179981, 225772.88676387,\n",
       "       142730.80725842, 344463.30312899, 222991.08013032, 161585.27444142,\n",
       "       111203.66541144, 176524.60636238, 171167.0528459 , 237724.35230064,\n",
       "       201869.95569034, 186209.41464217, 220415.33324739, 149942.89853061,\n",
       "       112852.14341651, 191669.99803397, 186312.44451749, 164882.23045156,\n",
       "       174154.91923009, 178482.1739934 ,  88743.15259235, 143761.10601159,\n",
       "       148294.42052554, 206815.38970556, 166118.58895537, 157876.19893001,\n",
       "       226185.00626514, 149118.65952807, 152621.67528885, 177760.96486618,\n",
       "       145203.52426603, 259875.77549378, 219797.15399549, 132221.75997609,\n",
       "       191979.08765992, 294184.72397432, 341784.52637075, 184560.9366371 ,\n",
       "       310669.50402503, 179512.47274657, 356414.76866575, 117900.60730704,\n",
       "       167457.97733449, 188785.16152509, 132427.81972673, 115943.03967602,\n",
       "       183736.69763456, 256578.81948364, 248748.54895955, 136342.95498877,\n",
       "       193936.65529094, 220003.21374613, 106567.32102218, 185900.32501622,\n",
       "       189506.37065231, 220106.24362144, 202488.13494225, 202385.10506693,\n",
       "       112852.14341651, 153445.91429138, 150355.01803188, 124803.60895328,\n",
       "       148706.5400268 , 225566.82701324, 183530.63788393, 178997.32336998,\n",
       "       116973.33842919, 163748.90182308, 187960.92252256, 157979.22880533,\n",
       "       193524.53578967, 239887.97968229, 239166.77055508, 133561.14835522,\n",
       "       173433.71010287, 136755.07449004, 222063.81125246, 194657.86441816,\n",
       "       149633.80890466, 222475.93075373, 185900.32501622, 215778.98885813,\n",
       "       172197.35159907, 180954.89100101, 147470.181523  , 122743.01144694,\n",
       "       126452.08695835, 172403.4113497 ,  96779.48286707, 119033.93593553,\n",
       "       171373.11259653, 176112.48686111, 202385.10506693, 251530.35559311,\n",
       "       170754.93334463, 155094.39229645, 220003.21374613, 241227.36806141,\n",
       "       205991.15070302, 231954.67928289, 198779.05943084, 214233.54072838,\n",
       "       194863.92416879, 142730.80725842, 181470.04037759, 272548.45015776,\n",
       "       141700.50850525, 163954.96157371, 164161.02132435, 182397.30925544,\n",
       "       233603.15728796, 107906.7094013 , 213821.42122711, 126761.1765843 ,\n",
       "       189712.43040295, 167251.91758385, 185694.26526559, 249675.8178374 ,\n",
       "       163954.96157371, 224742.5880107 , 198366.93992957, 254621.25185262,\n",
       "       145512.61389198, 215057.77973091, 112233.96416461, 187960.92252256,\n",
       "       220827.45274866, 122536.9516963 , 295215.02272749, 256990.93898491,\n",
       "       270899.97215269, 194863.92416879, 148294.42052554, 144070.19563754,\n",
       "       166221.61883068, 156227.72092494, 214542.63035433, 206712.35983024,\n",
       "       112852.14341651, 214439.60047901, 112852.14341651, 164367.08107498,\n",
       "       271415.12152928, 154785.3026705 , 163130.72257118, 200633.59718654,\n",
       "       172197.35159907, 125421.78820518, 139330.82137296, 178791.26361935,\n",
       "       119652.11518743, 175906.42711048, 171167.0528459 , 152209.55578758,\n",
       "       130985.40147229, 233500.12741264, 172403.4113497 , 175082.18810794,\n",
       "       142524.74750779, 185900.32501622, 200633.59718654, 178482.1739934 ,\n",
       "       119136.96581084, 195276.04367006,  86167.40570942, 186827.59389407,\n",
       "       132324.78985141, 112852.14341651, 191669.99803397, 330657.29983652,\n",
       "       188785.16152509, 189094.25115104, 201457.83618908, 197130.58142577,\n",
       "       191154.84865738, 134282.35748243, 121918.7724444 , 139021.73174701,\n",
       "       122743.01144694, 179615.50262189, 107906.7094013 , 183942.7573852 ,\n",
       "       224433.49838475, 161688.30431674, 132427.81972673, 188991.22127573,\n",
       "       173845.82960414, 160658.00556357, 208051.74820936, 128100.56496342,\n",
       "       112852.14341651, 196306.34242323, 230718.32077909, 146852.0022711 ,\n",
       "       198985.11918147, 235869.81454493, 147058.06202173, 149118.65952807,\n",
       "       187445.77314597, 293978.66422369, 194039.68516626, 155403.48192241,\n",
       "       121094.53344187, 132633.87947736, 116561.21892792, 116973.33842919,\n",
       "       130985.40147229, 260390.92487037, 121712.71269377, 145718.67364261,\n",
       "       233088.00791138, 127688.44546215,  98015.84137087, 225875.91663919,\n",
       "       237415.26267469, 169724.63459146, 228554.69339743, 140361.12012613,\n",
       "       113882.44216968, 139845.97074955, 208463.86771063])"
      ]
     },
     "execution_count": 36,
     "metadata": {},
     "output_type": "execute_result"
    }
   ],
   "source": [
    "y_pred=reg.predict(x_test.values.reshape(-1,1))\n",
    "y_pred"
   ]
  },
  {
   "cell_type": "markdown",
   "id": "53f4e834",
   "metadata": {
    "papermill": {
     "duration": 0.032868,
     "end_time": "2023-08-23T13:07:29.086296",
     "exception": false,
     "start_time": "2023-08-23T13:07:29.053428",
     "status": "completed"
    },
    "tags": []
   },
   "source": [
    "## Evaluating Result"
   ]
  },
  {
   "cell_type": "markdown",
   "id": "51f70af1",
   "metadata": {
    "papermill": {
     "duration": 0.032609,
     "end_time": "2023-08-23T13:07:29.152005",
     "exception": false,
     "start_time": "2023-08-23T13:07:29.119396",
     "status": "completed"
    },
    "tags": []
   },
   "source": [
    "#### MAE ,MSE ,RMSE"
   ]
  },
  {
   "cell_type": "code",
   "execution_count": 37,
   "id": "5633f7ad",
   "metadata": {
    "execution": {
     "iopub.execute_input": "2023-08-23T13:07:29.219737Z",
     "iopub.status.busy": "2023-08-23T13:07:29.219354Z",
     "iopub.status.idle": "2023-08-23T13:07:29.224577Z",
     "shell.execute_reply": "2023-08-23T13:07:29.223431Z"
    },
    "papermill": {
     "duration": 0.041922,
     "end_time": "2023-08-23T13:07:29.226879",
     "exception": false,
     "start_time": "2023-08-23T13:07:29.184957",
     "status": "completed"
    },
    "tags": []
   },
   "outputs": [],
   "source": [
    "from sklearn.metrics import mean_absolute_error,mean_squared_error,r2_score"
   ]
  },
  {
   "cell_type": "code",
   "execution_count": 38,
   "id": "6c4bf752",
   "metadata": {
    "execution": {
     "iopub.execute_input": "2023-08-23T13:07:29.294835Z",
     "iopub.status.busy": "2023-08-23T13:07:29.294409Z",
     "iopub.status.idle": "2023-08-23T13:07:29.301586Z",
     "shell.execute_reply": "2023-08-23T13:07:29.300346Z"
    },
    "papermill": {
     "duration": 0.044488,
     "end_time": "2023-08-23T13:07:29.304354",
     "exception": false,
     "start_time": "2023-08-23T13:07:29.259866",
     "status": "completed"
    },
    "tags": []
   },
   "outputs": [
    {
     "name": "stdout",
     "output_type": "stream",
     "text": [
      "36965.0928563481\n"
     ]
    }
   ],
   "source": [
    "#MAE\n",
    "print(mean_absolute_error(y_test,y_pred))"
   ]
  },
  {
   "cell_type": "code",
   "execution_count": 39,
   "id": "56aa9e4f",
   "metadata": {
    "execution": {
     "iopub.execute_input": "2023-08-23T13:07:29.375779Z",
     "iopub.status.busy": "2023-08-23T13:07:29.375374Z",
     "iopub.status.idle": "2023-08-23T13:07:29.381378Z",
     "shell.execute_reply": "2023-08-23T13:07:29.380342Z"
    },
    "papermill": {
     "duration": 0.044975,
     "end_time": "2023-08-23T13:07:29.383982",
     "exception": false,
     "start_time": "2023-08-23T13:07:29.339007",
     "status": "completed"
    },
    "tags": []
   },
   "outputs": [
    {
     "name": "stdout",
     "output_type": "stream",
     "text": [
      "3112684436.4346375\n"
     ]
    }
   ],
   "source": [
    "# MSE\n",
    "print(mean_squared_error(y_test,y_pred))"
   ]
  },
  {
   "cell_type": "code",
   "execution_count": 40,
   "id": "1d6ba9d6",
   "metadata": {
    "execution": {
     "iopub.execute_input": "2023-08-23T13:07:29.453080Z",
     "iopub.status.busy": "2023-08-23T13:07:29.451760Z",
     "iopub.status.idle": "2023-08-23T13:07:29.459330Z",
     "shell.execute_reply": "2023-08-23T13:07:29.458116Z"
    },
    "papermill": {
     "duration": 0.043947,
     "end_time": "2023-08-23T13:07:29.461475",
     "exception": false,
     "start_time": "2023-08-23T13:07:29.417528",
     "status": "completed"
    },
    "tags": []
   },
   "outputs": [
    {
     "name": "stdout",
     "output_type": "stream",
     "text": [
      "55791.43694541876\n"
     ]
    }
   ],
   "source": [
    "#RMSE\n",
    "print(np.sqrt(mean_squared_error(y_test,y_pred)))"
   ]
  },
  {
   "cell_type": "code",
   "execution_count": 41,
   "id": "f86d429b",
   "metadata": {
    "execution": {
     "iopub.execute_input": "2023-08-23T13:07:29.530725Z",
     "iopub.status.busy": "2023-08-23T13:07:29.529878Z",
     "iopub.status.idle": "2023-08-23T13:07:29.537618Z",
     "shell.execute_reply": "2023-08-23T13:07:29.536633Z"
    },
    "papermill": {
     "duration": 0.045197,
     "end_time": "2023-08-23T13:07:29.539807",
     "exception": false,
     "start_time": "2023-08-23T13:07:29.494610",
     "status": "completed"
    },
    "tags": []
   },
   "outputs": [
    {
     "data": {
      "text/plain": [
       "176236.36743215032"
      ]
     },
     "execution_count": 41,
     "metadata": {},
     "output_type": "execute_result"
    }
   ],
   "source": [
    "np.mean(y_test)"
   ]
  },
  {
   "cell_type": "code",
   "execution_count": 42,
   "id": "89e899ce",
   "metadata": {
    "execution": {
     "iopub.execute_input": "2023-08-23T13:07:29.609710Z",
     "iopub.status.busy": "2023-08-23T13:07:29.609004Z",
     "iopub.status.idle": "2023-08-23T13:07:29.615946Z",
     "shell.execute_reply": "2023-08-23T13:07:29.615005Z"
    },
    "papermill": {
     "duration": 0.044725,
     "end_time": "2023-08-23T13:07:29.618190",
     "exception": false,
     "start_time": "2023-08-23T13:07:29.573465",
     "status": "completed"
    },
    "tags": []
   },
   "outputs": [
    {
     "data": {
      "text/plain": [
       "178212.23141819573"
      ]
     },
     "execution_count": 42,
     "metadata": {},
     "output_type": "execute_result"
    }
   ],
   "source": [
    "np.mean(y_pred)"
   ]
  },
  {
   "cell_type": "code",
   "execution_count": 43,
   "id": "4421b802",
   "metadata": {
    "execution": {
     "iopub.execute_input": "2023-08-23T13:07:29.687494Z",
     "iopub.status.busy": "2023-08-23T13:07:29.687103Z",
     "iopub.status.idle": "2023-08-23T13:07:29.694160Z",
     "shell.execute_reply": "2023-08-23T13:07:29.693158Z"
    },
    "papermill": {
     "duration": 0.044995,
     "end_time": "2023-08-23T13:07:29.696687",
     "exception": false,
     "start_time": "2023-08-23T13:07:29.651692",
     "status": "completed"
    },
    "tags": []
   },
   "outputs": [
    {
     "data": {
      "text/plain": [
       "0.38900848777466634"
      ]
     },
     "execution_count": 43,
     "metadata": {},
     "output_type": "execute_result"
    }
   ],
   "source": [
    "#R2\n",
    "r2_score(y_test,y_pred)"
   ]
  },
  {
   "cell_type": "code",
   "execution_count": 44,
   "id": "c885e565",
   "metadata": {
    "execution": {
     "iopub.execute_input": "2023-08-23T13:07:29.770315Z",
     "iopub.status.busy": "2023-08-23T13:07:29.769266Z",
     "iopub.status.idle": "2023-08-23T13:07:29.777989Z",
     "shell.execute_reply": "2023-08-23T13:07:29.776944Z"
    },
    "papermill": {
     "duration": 0.049547,
     "end_time": "2023-08-23T13:07:29.780196",
     "exception": false,
     "start_time": "2023-08-23T13:07:29.730649",
     "status": "completed"
    },
    "tags": []
   },
   "outputs": [
    {
     "data": {
      "text/plain": [
       "0.5073437031641534"
      ]
     },
     "execution_count": 44,
     "metadata": {},
     "output_type": "execute_result"
    }
   ],
   "source": [
    "\n",
    "reg_ml.score(x_train.values.reshape(-1,1),y_train)"
   ]
  },
  {
   "cell_type": "code",
   "execution_count": 45,
   "id": "93bf3bc8",
   "metadata": {
    "execution": {
     "iopub.execute_input": "2023-08-23T13:07:29.850268Z",
     "iopub.status.busy": "2023-08-23T13:07:29.849544Z",
     "iopub.status.idle": "2023-08-23T13:07:29.857402Z",
     "shell.execute_reply": "2023-08-23T13:07:29.856371Z"
    },
    "papermill": {
     "duration": 0.045775,
     "end_time": "2023-08-23T13:07:29.859621",
     "exception": false,
     "start_time": "2023-08-23T13:07:29.813846",
     "status": "completed"
    },
    "tags": []
   },
   "outputs": [
    {
     "data": {
      "text/plain": [
       "0.39754073511585364"
      ]
     },
     "execution_count": 45,
     "metadata": {},
     "output_type": "execute_result"
    }
   ],
   "source": [
    "reg_ml.score(x_test.values.reshape(-1,1),y_test)"
   ]
  }
 ],
 "metadata": {
  "kernelspec": {
   "display_name": "Python 3 (ipykernel)",
   "language": "python",
   "name": "python3"
  },
  "language_info": {
   "codemirror_mode": {
    "name": "ipython",
    "version": 3
   },
   "file_extension": ".py",
   "mimetype": "text/x-python",
   "name": "python",
   "nbconvert_exporter": "python",
   "pygments_lexer": "ipython3",
   "version": "3.9.13"
  },
  "papermill": {
   "default_parameters": {},
   "duration": 29.495766,
   "end_time": "2023-08-23T13:07:31.117200",
   "environment_variables": {},
   "exception": null,
   "input_path": "__notebook__.ipynb",
   "output_path": "__notebook__.ipynb",
   "parameters": {},
   "start_time": "2023-08-23T13:07:01.621434",
   "version": "2.4.0"
  }
 },
 "nbformat": 4,
 "nbformat_minor": 5
}
